{
 "cells": [
  {
   "cell_type": "code",
   "execution_count": 1,
   "id": "initial_id",
   "metadata": {
    "collapsed": true,
    "ExecuteTime": {
     "end_time": "2024-04-02T05:44:54.279141Z",
     "start_time": "2024-04-02T05:44:51.758597Z"
    }
   },
   "outputs": [
    {
     "name": "stderr",
     "output_type": "stream",
     "text": [
      "/Users/ryousukekaga/repositories/forex-analysis/venv/lib/python3.9/site-packages/urllib3/__init__.py:34: NotOpenSSLWarning: urllib3 v2 only supports OpenSSL 1.1.1+, currently the 'ssl' module is compiled with 'LibreSSL 2.8.3'. See: https://github.com/urllib3/urllib3/issues/3020\n",
      "  warnings.warn(\n"
     ]
    }
   ],
   "source": [
    "import numpy as np\n",
    "import pandas as pd\n",
    "from keras import datasets\n",
    "from keras.layers import Input, Dense, Conv1D, Conv1DTranspose, Flatten, Reshape, BatchNormalization\n",
    "from keras.models import Model\n",
    "import keras.backend as K\n",
    "from keras.optimizers.legacy import Adam\n",
    "import matplotlib.pyplot as plt\n",
    "from sklearn.preprocessing import StandardScaler, MinMaxScaler\n",
    "from sklearn.pipeline import make_pipeline\n",
    "from sklearn.impute import SimpleImputer\n",
    "from sklearn.compose import make_column_selector, make_column_transformer\n",
    "import mplfinance as mpf"
   ]
  },
  {
   "cell_type": "code",
   "outputs": [],
   "source": [
    "data = pd.read_table(\"./data/EURUSD_D1.csv\", names=[\"datetime\", \"open\", \"high\", \"low\", \"close\", \"volume\"])\n",
    "data.drop(\"volume\", inplace=True, axis=1)"
   ],
   "metadata": {
    "collapsed": false,
    "ExecuteTime": {
     "end_time": "2024-04-02T05:44:54.287389Z",
     "start_time": "2024-04-02T05:44:54.279867Z"
    }
   },
   "id": "31d51bd53954c9b3",
   "execution_count": 2
  },
  {
   "cell_type": "code",
   "outputs": [
    {
     "data": {
      "text/plain": "<Axes: >"
     },
     "execution_count": 3,
     "metadata": {},
     "output_type": "execute_result"
    },
    {
     "data": {
      "text/plain": "<Figure size 640x480 with 1 Axes>",
      "image/png": "[encoded data removed]"
     },
     "metadata": {},
     "output_type": "display_data"
    }
   ],
   "source": [
    "data[\"open\"].hist(bins=50)"
   ],
   "metadata": {
    "collapsed": false,
    "ExecuteTime": {
     "end_time": "2024-04-02T05:44:54.513898Z",
     "start_time": "2024-04-02T05:44:54.289163Z"
    }
   },
   "id": "b9f5ae66e47b4477",
   "execution_count": 3
  },
  {
   "cell_type": "code",
   "outputs": [],
   "source": [
    "num_pipeline = make_pipeline(\n",
    "    SimpleImputer(strategy=\"median\"),\n",
    "    MinMaxScaler()\n",
    ")\n",
    "\n",
    "preprocessing = make_column_transformer(\n",
    "    (num_pipeline, make_column_selector(dtype_include=np.number)),\n",
    "    verbose_feature_names_out=False\n",
    ")\n",
    "\n",
    "data = pd.DataFrame(preprocessing.fit_transform(data), columns=preprocessing.get_feature_names_out())\n",
    "\n",
    "num_data = data.select_dtypes(include=\"number\")"
   ],
   "metadata": {
    "collapsed": false,
    "ExecuteTime": {
     "end_time": "2024-04-02T05:44:54.548751Z",
     "start_time": "2024-04-02T05:44:54.525308Z"
    }
   },
   "id": "c35716d41e65469a",
   "execution_count": 4
  },
  {
   "cell_type": "code",
   "outputs": [
    {
     "data": {
      "text/plain": "<Axes: >"
     },
     "execution_count": 5,
     "metadata": {},
     "output_type": "execute_result"
    },
    {
     "data": {
      "text/plain": "<Figure size 640x480 with 1 Axes>",
      "image/png": "[encoded data removed]"
     },
     "metadata": {},
     "output_type": "display_data"
    }
   ],
   "source": [
    "data[\"open\"].hist(bins=50)"
   ],
   "metadata": {
    "collapsed": false,
    "ExecuteTime": {
     "end_time": "2024-04-02T05:44:54.701048Z",
     "start_time": "2024-04-02T05:44:54.555769Z"
    }
   },
   "id": "f7c5802c63d9bb51",
   "execution_count": 5
  },
  {
   "cell_type": "code",
   "outputs": [],
   "source": [
    "WINDOW = 24\n",
    "\n",
    "windows = np.array(list(num_data.rolling(window=WINDOW))[WINDOW:])"
   ],
   "metadata": {
    "collapsed": false,
    "ExecuteTime": {
     "end_time": "2024-04-02T05:44:54.841292Z",
     "start_time": "2024-04-02T05:44:54.702086Z"
    }
   },
   "id": "7583897145f5008",
   "execution_count": 6
  },
  {
   "cell_type": "code",
   "outputs": [],
   "source": [
    "EMBEDDING_DIM = 2"
   ],
   "metadata": {
    "collapsed": false,
    "ExecuteTime": {
     "end_time": "2024-04-02T05:44:54.844958Z",
     "start_time": "2024-04-02T05:44:54.841930Z"
    }
   },
   "id": "42adef39d5d863c7",
   "execution_count": 7
  },
  {
   "cell_type": "code",
   "outputs": [],
   "source": [
    "encoder_input = Input(shape=(WINDOW, 4))\n",
    "x = Conv1D(32, 3, strides=2, activation='relu', padding=\"same\")(encoder_input)\n",
    "x = Conv1D(64, 3, strides=2, activation='relu', padding=\"same\")(x)\n",
    "x = Conv1D(128, 3, strides=2, activation='relu', padding=\"same\")(x)\n",
    "shape_before_flattening = K.int_shape(x)[1:]\n",
    "x = Flatten()(x)\n",
    "x = BatchNormalization()(x)\n",
    "encoder_output = Dense(EMBEDDING_DIM, name=\"encoder_output\")(x)\n",
    "encoder = Model(encoder_input, encoder_output)"
   ],
   "metadata": {
    "collapsed": false,
    "ExecuteTime": {
     "end_time": "2024-04-02T05:44:54.895927Z",
     "start_time": "2024-04-02T05:44:54.846432Z"
    }
   },
   "id": "2532d0c4ae6129e7",
   "execution_count": 8
  },
  {
   "cell_type": "code",
   "outputs": [
    {
     "name": "stdout",
     "output_type": "stream",
     "text": [
      "Model: \"model\"\n",
      "_________________________________________________________________\n",
      " Layer (type)                Output Shape              Param #   \n",
      "=================================================================\n",
      " input_1 (InputLayer)        [(None, 24, 4)]           0         \n",
      "                                                                 \n",
      " conv1d (Conv1D)             (None, 12, 32)            416       \n",
      "                                                                 \n",
      " conv1d_1 (Conv1D)           (None, 6, 64)             6208      \n",
      "                                                                 \n",
      " conv1d_2 (Conv1D)           (None, 3, 128)            24704     \n",
      "                                                                 \n",
      " flatten (Flatten)           (None, 384)               0         \n",
      "                                                                 \n",
      " batch_normalization (Batch  (None, 384)               1536      \n",
      " Normalization)                                                  \n",
      "                                                                 \n",
      " encoder_output (Dense)      (None, 2)                 770       \n",
      "                                                                 \n",
      "=================================================================\n",
      "Total params: 33634 (131.38 KB)\n",
      "Trainable params: 32866 (128.38 KB)\n",
      "Non-trainable params: 768 (3.00 KB)\n",
      "_________________________________________________________________\n"
     ]
    }
   ],
   "source": [
    "encoder.summary()"
   ],
   "metadata": {
    "collapsed": false,
    "ExecuteTime": {
     "end_time": "2024-04-02T05:44:54.906208Z",
     "start_time": "2024-04-02T05:44:54.898370Z"
    }
   },
   "id": "b59f021bafcd6ce1",
   "execution_count": 9
  },
  {
   "cell_type": "code",
   "outputs": [
    {
     "data": {
      "text/plain": "(3, 128)"
     },
     "execution_count": 10,
     "metadata": {},
     "output_type": "execute_result"
    }
   ],
   "source": [
    "shape_before_flattening"
   ],
   "metadata": {
    "collapsed": false
   },
   "id": "a9ed839454eef3cd",
   "execution_count": 10
  },
  {
   "cell_type": "code",
   "outputs": [],
   "source": [
    "decoder_input = Input(shape=(EMBEDDING_DIM,), name=\"decoder_input\")\n",
    "x = Dense(np.prod(shape_before_flattening))(decoder_input)\n",
    "x = Reshape(shape_before_flattening)(x)\n",
    "x = BatchNormalization()(x)\n",
    "x = Conv1DTranspose(128, 3, strides=2, activation='relu', padding=\"same\")(x)\n",
    "x = Conv1DTranspose(64, 3, strides=2, activation='relu', padding=\"same\")(x)\n",
    "x = Conv1DTranspose(32, 3, strides=2, activation='relu', padding=\"same\")(x)\n",
    "decoder_output = Conv1D(4, 3, strides=1, activation=\"relu\", padding=\"same\")(x)\n",
    "decoder = Model(decoder_input, decoder_output)"
   ],
   "metadata": {
    "collapsed": false,
    "ExecuteTime": {
     "end_time": "2024-04-02T05:44:54.963160Z",
     "start_time": "2024-04-02T05:44:54.909974Z"
    }
   },
   "id": "67f0b7323cca1efc",
   "execution_count": 11
  },
  {
   "cell_type": "code",
   "outputs": [
    {
     "name": "stdout",
     "output_type": "stream",
     "text": [
      "Model: \"model_1\"\n",
      "_________________________________________________________________\n",
      " Layer (type)                Output Shape              Param #   \n",
      "=================================================================\n",
      " decoder_input (InputLayer)  [(None, 2)]               0         \n",
      "                                                                 \n",
      " dense (Dense)               (None, 384)               1152      \n",
      "                                                                 \n",
      " reshape (Reshape)           (None, 3, 128)            0         \n",
      "                                                                 \n",
      " batch_normalization_1 (Bat  (None, 3, 128)            512       \n",
      " chNormalization)                                                \n",
      "                                                                 \n",
      " conv1d_transpose (Conv1DTr  (None, 6, 128)            49280     \n",
      " anspose)                                                        \n",
      "                                                                 \n",
      " conv1d_transpose_1 (Conv1D  (None, 12, 64)            24640     \n",
      " Transpose)                                                      \n",
      "                                                                 \n",
      " conv1d_transpose_2 (Conv1D  (None, 24, 32)            6176      \n",
      " Transpose)                                                      \n",
      "                                                                 \n",
      " conv1d_3 (Conv1D)           (None, 24, 4)             388       \n",
      "                                                                 \n",
      "=================================================================\n",
      "Total params: 82148 (320.89 KB)\n",
      "Trainable params: 81892 (319.89 KB)\n",
      "Non-trainable params: 256 (1.00 KB)\n",
      "_________________________________________________________________\n"
     ]
    }
   ],
   "source": [
    "decoder.summary()"
   ],
   "metadata": {
    "collapsed": false,
    "ExecuteTime": {
     "end_time": "2024-04-02T05:44:54.973178Z",
     "start_time": "2024-04-02T05:44:54.964016Z"
    }
   },
   "id": "ce4516e6bf7e4b74",
   "execution_count": 12
  },
  {
   "cell_type": "code",
   "outputs": [
    {
     "name": "stdout",
     "output_type": "stream",
     "text": [
      "Model: \"model_2\"\n",
      "_________________________________________________________________\n",
      " Layer (type)                Output Shape              Param #   \n",
      "=================================================================\n",
      " input_1 (InputLayer)        [(None, 24, 4)]           0         \n",
      "                                                                 \n",
      " conv1d (Conv1D)             (None, 12, 32)            416       \n",
      "                                                                 \n",
      " conv1d_1 (Conv1D)           (None, 6, 64)             6208      \n",
      "                                                                 \n",
      " conv1d_2 (Conv1D)           (None, 3, 128)            24704     \n",
      "                                                                 \n",
      " flatten (Flatten)           (None, 384)               0         \n",
      "                                                                 \n",
      " batch_normalization (Batch  (None, 384)               1536      \n",
      " Normalization)                                                  \n",
      "                                                                 \n",
      " encoder_output (Dense)      (None, 2)                 770       \n",
      "                                                                 \n",
      " model_1 (Functional)        (None, 24, 4)             82148     \n",
      "                                                                 \n",
      "=================================================================\n",
      "Total params: 115782 (452.27 KB)\n",
      "Trainable params: 114758 (448.27 KB)\n",
      "Non-trainable params: 1024 (4.00 KB)\n",
      "_________________________________________________________________\n"
     ]
    }
   ],
   "source": [
    "autoencoder = Model(encoder_input, decoder(encoder_output))\n",
    "autoencoder.summary()"
   ],
   "metadata": {
    "collapsed": false,
    "ExecuteTime": {
     "end_time": "2024-04-02T05:44:55.014402Z",
     "start_time": "2024-04-02T05:44:54.973932Z"
    }
   },
   "id": "567fe1f6303ebc29",
   "execution_count": 13
  },
  {
   "cell_type": "code",
   "outputs": [],
   "source": [
    "optimizer = Adam(learning_rate=0.001)\n",
    "autoencoder.compile(optimizer=optimizer, loss=\"binary_crossentropy\")"
   ],
   "metadata": {
    "collapsed": false,
    "ExecuteTime": {
     "end_time": "2024-04-02T05:44:55.022142Z",
     "start_time": "2024-04-02T05:44:55.015059Z"
    }
   },
   "id": "101a331db05b3978",
   "execution_count": 14
  },
  {
   "cell_type": "code",
   "outputs": [
    {
     "name": "stdout",
     "output_type": "stream",
     "text": [
      "Epoch 1/50\n",
      "156/156 [==============================] - 1s 4ms/step - loss: 0.7342\n",
      "Epoch 2/50\n",
      "156/156 [==============================] - 1s 4ms/step - loss: 0.6249\n",
      "Epoch 3/50\n",
      "156/156 [==============================] - 1s 4ms/step - loss: 0.5948\n",
      "Epoch 4/50\n",
      "156/156 [==============================] - 1s 4ms/step - loss: 0.5977\n",
      "Epoch 5/50\n",
      "156/156 [==============================] - 1s 4ms/step - loss: 0.5946\n",
      "Epoch 6/50\n",
      "156/156 [==============================] - 1s 5ms/step - loss: 0.5942\n",
      "Epoch 7/50\n",
      "156/156 [==============================] - 1s 5ms/step - loss: 0.5920\n",
      "Epoch 8/50\n",
      "156/156 [==============================] - 1s 4ms/step - loss: 0.5899\n",
      "Epoch 9/50\n",
      "156/156 [==============================] - 1s 4ms/step - loss: 0.5881\n",
      "Epoch 10/50\n",
      "156/156 [==============================] - 1s 4ms/step - loss: 0.5895\n",
      "Epoch 11/50\n",
      "156/156 [==============================] - 1s 4ms/step - loss: 0.5890\n",
      "Epoch 12/50\n",
      "156/156 [==============================] - 1s 4ms/step - loss: 0.5966\n",
      "Epoch 13/50\n",
      "156/156 [==============================] - 1s 4ms/step - loss: 0.5894\n",
      "Epoch 14/50\n",
      "156/156 [==============================] - 1s 4ms/step - loss: 0.5935\n",
      "Epoch 15/50\n",
      "156/156 [==============================] - 1s 4ms/step - loss: 0.5918\n",
      "Epoch 16/50\n",
      "156/156 [==============================] - 1s 5ms/step - loss: 0.5899\n",
      "Epoch 17/50\n",
      "156/156 [==============================] - 1s 5ms/step - loss: 0.5925\n",
      "Epoch 18/50\n",
      "156/156 [==============================] - 1s 5ms/step - loss: 0.5878\n",
      "Epoch 19/50\n",
      "156/156 [==============================] - 1s 5ms/step - loss: 0.5869\n",
      "Epoch 20/50\n",
      "156/156 [==============================] - 1s 5ms/step - loss: 0.5877\n",
      "Epoch 21/50\n",
      "156/156 [==============================] - 1s 4ms/step - loss: 0.5920\n",
      "Epoch 22/50\n",
      "156/156 [==============================] - 1s 5ms/step - loss: 0.5908\n",
      "Epoch 23/50\n",
      "156/156 [==============================] - 1s 5ms/step - loss: 0.5911\n",
      "Epoch 24/50\n",
      "156/156 [==============================] - 1s 4ms/step - loss: 0.5965\n",
      "Epoch 25/50\n",
      "156/156 [==============================] - 1s 4ms/step - loss: 0.5909\n",
      "Epoch 26/50\n",
      "156/156 [==============================] - 1s 4ms/step - loss: 0.5892\n",
      "Epoch 27/50\n",
      "156/156 [==============================] - 1s 4ms/step - loss: 0.5877\n",
      "Epoch 28/50\n",
      "156/156 [==============================] - 1s 5ms/step - loss: 0.5921\n",
      "Epoch 29/50\n",
      "156/156 [==============================] - 1s 4ms/step - loss: 0.5927\n",
      "Epoch 30/50\n",
      "156/156 [==============================] - 1s 4ms/step - loss: 0.5948\n",
      "Epoch 31/50\n",
      "156/156 [==============================] - 1s 4ms/step - loss: 0.5920\n",
      "Epoch 32/50\n",
      "156/156 [==============================] - 1s 4ms/step - loss: 0.5908\n",
      "Epoch 33/50\n",
      "156/156 [==============================] - 1s 4ms/step - loss: 0.5888\n",
      "Epoch 34/50\n",
      "156/156 [==============================] - 1s 4ms/step - loss: 0.5922\n",
      "Epoch 35/50\n",
      "156/156 [==============================] - 1s 4ms/step - loss: 0.5873\n",
      "Epoch 36/50\n",
      "156/156 [==============================] - 1s 4ms/step - loss: 0.5872\n",
      "Epoch 37/50\n",
      "156/156 [==============================] - 1s 4ms/step - loss: 0.5900\n",
      "Epoch 38/50\n",
      "156/156 [==============================] - 1s 4ms/step - loss: 0.5874\n",
      "Epoch 39/50\n",
      "156/156 [==============================] - 1s 4ms/step - loss: 0.5962\n",
      "Epoch 40/50\n",
      "156/156 [==============================] - 1s 4ms/step - loss: 0.5896\n",
      "Epoch 41/50\n",
      "156/156 [==============================] - 1s 4ms/step - loss: 0.5884\n",
      "Epoch 42/50\n",
      "156/156 [==============================] - 1s 4ms/step - loss: 0.5872\n",
      "Epoch 43/50\n",
      "156/156 [==============================] - 1s 4ms/step - loss: 0.5873\n",
      "Epoch 44/50\n",
      "156/156 [==============================] - 1s 4ms/step - loss: 0.5866\n",
      "Epoch 45/50\n",
      "156/156 [==============================] - 1s 4ms/step - loss: 0.5870\n",
      "Epoch 46/50\n",
      "156/156 [==============================] - 1s 4ms/step - loss: 0.5894\n",
      "Epoch 47/50\n",
      "156/156 [==============================] - 1s 4ms/step - loss: 0.5870\n",
      "Epoch 48/50\n",
      "156/156 [==============================] - 1s 4ms/step - loss: 0.5888\n",
      "Epoch 49/50\n",
      "156/156 [==============================] - 1s 5ms/step - loss: 0.5868\n",
      "Epoch 50/50\n",
      "156/156 [==============================] - 1s 4ms/step - loss: 0.5902\n"
     ]
    },
    {
     "data": {
      "text/plain": "<keras.src.callbacks.History at 0x17a80b6d0>"
     },
     "execution_count": 15,
     "metadata": {},
     "output_type": "execute_result"
    }
   ],
   "source": [
    "autoencoder.fit(windows, windows, epochs=50, batch_size=32, shuffle=True)"
   ],
   "metadata": {
    "collapsed": false,
    "ExecuteTime": {
     "end_time": "2024-04-02T05:45:30.349331Z",
     "start_time": "2024-04-02T05:44:55.023172Z"
    }
   },
   "id": "b353e67606c67022",
   "execution_count": 15
  },
  {
   "cell_type": "code",
   "outputs": [
    {
     "name": "stdout",
     "output_type": "stream",
     "text": [
      "156/156 [==============================] - 0s 1ms/step\n"
     ]
    }
   ],
   "source": [
    "predictions = autoencoder.predict(windows)"
   ],
   "metadata": {
    "collapsed": false,
    "ExecuteTime": {
     "end_time": "2024-04-02T05:45:30.703429Z",
     "start_time": "2024-04-02T05:45:30.350065Z"
    }
   },
   "id": "7aec626d0ded8174",
   "execution_count": 16
  },
  {
   "cell_type": "code",
   "outputs": [
    {
     "name": "stdout",
     "output_type": "stream",
     "text": [
      "156/156 [==============================] - 0s 527us/step\n"
     ]
    }
   ],
   "source": [
    "embeddings = encoder.predict(windows)"
   ],
   "metadata": {
    "collapsed": false,
    "ExecuteTime": {
     "end_time": "2024-04-02T05:45:30.855579Z",
     "start_time": "2024-04-02T05:45:30.704503Z"
    }
   },
   "id": "ddc87bd9ac5fe30a",
   "execution_count": 17
  },
  {
   "cell_type": "code",
   "outputs": [
    {
     "data": {
      "text/plain": "<matplotlib.collections.PathCollection at 0x17a8b97f0>"
     },
     "execution_count": 18,
     "metadata": {},
     "output_type": "execute_result"
    },
    {
     "data": {
      "text/plain": "<Figure size 800x800 with 1 Axes>",
      "image/png": "[encoded data removed]"
     },
     "metadata": {},
     "output_type": "display_data"
    }
   ],
   "source": [
    "plt.figure(figsize=(8, 8))\n",
    "plt.scatter(embeddings[:, 0], embeddings[:, 1], c=\"black\", alpha=0.5, s=3)"
   ],
   "metadata": {
    "collapsed": false,
    "ExecuteTime": {
     "end_time": "2024-04-02T05:45:30.972154Z",
     "start_time": "2024-04-02T05:45:30.856825Z"
    }
   },
   "id": "7ccee07817b4fc6a",
   "execution_count": 18
  },
  {
   "cell_type": "code",
   "outputs": [
    {
     "name": "stdout",
     "output_type": "stream",
     "text": [
      "1/1 [==============================] - 0s 13ms/step\n"
     ]
    }
   ],
   "source": [
    "mins, maxs = np.min(embeddings, axis=0), np.max(embeddings, axis=0)\n",
    "sample = np.random.uniform(mins, maxs, size=(20, 2))\n",
    "reconstruction = decoder.predict(sample)[0] "
   ],
   "metadata": {
    "collapsed": false,
    "ExecuteTime": {
     "end_time": "2024-04-02T05:45:57.465719Z",
     "start_time": "2024-04-02T05:45:57.423729Z"
    }
   },
   "id": "7f8ba5e95b52ea47",
   "execution_count": 32
  },
  {
   "cell_type": "code",
   "outputs": [
    {
     "data": {
      "text/plain": "24"
     },
     "execution_count": 33,
     "metadata": {},
     "output_type": "execute_result"
    }
   ],
   "source": [
    "reconstruction.shape[0]"
   ],
   "metadata": {
    "collapsed": false,
    "ExecuteTime": {
     "end_time": "2024-04-02T05:45:57.557701Z",
     "start_time": "2024-04-02T05:45:57.554415Z"
    }
   },
   "id": "e01c06fdc9a613af",
   "execution_count": 33
  },
  {
   "cell_type": "code",
   "outputs": [],
   "source": [
    "reconstruction = pd.DataFrame(preprocessing.named_transformers_[\"pipeline\"][\"minmaxscaler\"].inverse_transform(reconstruction), columns=['Open', 'Low', 'High', 'Close'])\n",
    "reconstruction.index = pd.date_range('1/1/2021',periods=(reconstruction.shape[0]))"
   ],
   "metadata": {
    "collapsed": false,
    "ExecuteTime": {
     "end_time": "2024-04-02T05:45:57.730238Z",
     "start_time": "2024-04-02T05:45:57.725806Z"
    }
   },
   "id": "7172358a3b9c7934",
   "execution_count": 34
  },
  {
   "cell_type": "code",
   "outputs": [
    {
     "data": {
      "text/plain": "<Figure size 800x575 with 2 Axes>",
      "image/png": "[encoded data removed]"
     },
     "metadata": {},
     "output_type": "display_data"
    }
   ],
   "source": [
    "mpf.plot(reconstruction, type='candle', datetime_format='%j')"
   ],
   "metadata": {
    "collapsed": false,
    "ExecuteTime": {
     "end_time": "2024-04-02T05:45:58.039577Z",
     "start_time": "2024-04-02T05:45:57.956794Z"
    }
   },
   "id": "d5ceb76e26e370c0",
   "execution_count": 35
  },
  {
   "cell_type": "code",
   "outputs": [],
   "source": [],
   "metadata": {
    "collapsed": false
   },
   "id": "fd26a01373ddab56"
  }
 ],
 "metadata": {
  "kernelspec": {
   "display_name": "Python 3",
   "language": "python",
   "name": "python3"
  },
  "language_info": {
   "codemirror_mode": {
    "name": "ipython",
    "version": 2
   },
   "file_extension": ".py",
   "mimetype": "text/x-python",
   "name": "python",
   "nbconvert_exporter": "python",
   "pygments_lexer": "ipython2",
   "version": "2.7.6"
  }
 },
 "nbformat": 4,
 "nbformat_minor": 5
}
