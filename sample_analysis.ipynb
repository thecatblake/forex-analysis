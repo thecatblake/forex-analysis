{
 "cells": [
  {
   "cell_type": "code",
   "execution_count": 1,
   "id": "initial_id",
   "metadata": {
    "collapsed": true,
    "ExecuteTime": {
     "end_time": "2023-12-01T02:55:39.551795Z",
     "start_time": "2023-12-01T02:55:39.192734Z"
    }
   },
   "outputs": [],
   "source": [
    "import pandas as pd"
   ]
  },
  {
   "cell_type": "code",
   "execution_count": 11,
   "outputs": [],
   "source": [
    "data = pd.read_csv(\"data.csv\")"
   ],
   "metadata": {
    "collapsed": false,
    "ExecuteTime": {
     "end_time": "2023-12-01T02:57:15.041620Z",
     "start_time": "2023-12-01T02:57:15.029197Z"
    }
   },
   "id": "a5a14f78abed37ba"
  },
  {
   "cell_type": "code",
   "execution_count": 12,
   "outputs": [],
   "source": [
    "data = data.set_index(\"datetime\")"
   ],
   "metadata": {
    "collapsed": false,
    "ExecuteTime": {
     "end_time": "2023-12-01T02:57:25.708726Z",
     "start_time": "2023-12-01T02:57:25.700040Z"
    }
   },
   "id": "d642bf60ae4cacdf"
  },
  {
   "cell_type": "code",
   "execution_count": 15,
   "outputs": [
    {
     "data": {
      "text/plain": "                          price  currency\ndatetime                                 \n2023-12-01 11:55:00    1.354170     CAD=X\n2023-12-01 11:55:00  147.942993     JPY=X\n2023-12-01 11:55:00    1.090760  EURUSD=X\n2023-12-01 11:55:00    1.264790  GBPUSD=X\n2023-12-01 11:55:00    1.354160     CAD=X\n2023-12-01 11:55:00    1.090760  EURUSD=X\n2023-12-01 11:55:00    1.264800  GBPUSD=X\n2023-12-01 11:55:00  147.942001     JPY=X\n2023-12-01 11:55:00    1.090750  EURUSD=X\n2023-12-01 11:55:00    0.874140     CHF=X\n2023-12-01 11:55:00  147.940994     JPY=X\n2023-12-01 11:55:00    1.354170     CAD=X\n2023-12-01 11:55:00    1.264760  GBPUSD=X\n2023-12-01 11:55:00    1.090760  EURUSD=X\n2023-12-01 11:55:00  147.942001     JPY=X\n2023-12-01 11:55:00    1.264770  GBPUSD=X\n2023-12-01 11:55:00  147.940994     JPY=X\n2023-12-01 11:55:00    1.090750  EURUSD=X\n2023-12-01 11:55:00    1.354160     CAD=X\n2023-12-01 11:55:00  147.940994     JPY=X\n2023-12-01 11:55:00    0.874200     CHF=X\n2023-12-01 11:55:00    1.264780  GBPUSD=X\n2023-12-01 11:55:00    1.090760  EURUSD=X\n2023-12-01 11:55:00    0.874150     CHF=X\n2023-12-01 11:55:00  147.936996     JPY=X\n2023-12-01 11:55:00    0.874190     CHF=X\n2023-12-01 11:55:00    1.090750  EURUSD=X\n2023-12-01 11:55:00    1.354170     CAD=X\n2023-12-01 11:55:00    0.874140     CHF=X\n2023-12-01 11:55:00  147.940002     JPY=X\n2023-12-01 11:55:00    1.090750  EURUSD=X",
      "text/html": "<div>\n<style scoped>\n    .dataframe tbody tr th:only-of-type {\n        vertical-align: middle;\n    }\n\n    .dataframe tbody tr th {\n        vertical-align: top;\n    }\n\n    .dataframe thead th {\n        text-align: right;\n    }\n</style>\n<table border=\"1\" class=\"dataframe\">\n  <thead>\n    <tr style=\"text-align: right;\">\n      <th></th>\n      <th>price</th>\n      <th>currency</th>\n    </tr>\n    <tr>\n      <th>datetime</th>\n      <th></th>\n      <th></th>\n    </tr>\n  </thead>\n  <tbody>\n    <tr>\n      <th>2023-12-01 11:55:00</th>\n      <td>1.354170</td>\n      <td>CAD=X</td>\n    </tr>\n    <tr>\n      <th>2023-12-01 11:55:00</th>\n      <td>147.942993</td>\n      <td>JPY=X</td>\n    </tr>\n    <tr>\n      <th>2023-12-01 11:55:00</th>\n      <td>1.090760</td>\n      <td>EURUSD=X</td>\n    </tr>\n    <tr>\n      <th>2023-12-01 11:55:00</th>\n      <td>1.264790</td>\n      <td>GBPUSD=X</td>\n    </tr>\n    <tr>\n      <th>2023-12-01 11:55:00</th>\n      <td>1.354160</td>\n      <td>CAD=X</td>\n    </tr>\n    <tr>\n      <th>2023-12-01 11:55:00</th>\n      <td>1.090760</td>\n      <td>EURUSD=X</td>\n    </tr>\n    <tr>\n      <th>2023-12-01 11:55:00</th>\n      <td>1.264800</td>\n      <td>GBPUSD=X</td>\n    </tr>\n    <tr>\n      <th>2023-12-01 11:55:00</th>\n      <td>147.942001</td>\n      <td>JPY=X</td>\n    </tr>\n    <tr>\n      <th>2023-12-01 11:55:00</th>\n      <td>1.090750</td>\n      <td>EURUSD=X</td>\n    </tr>\n    <tr>\n      <th>2023-12-01 11:55:00</th>\n      <td>0.874140</td>\n      <td>CHF=X</td>\n    </tr>\n    <tr>\n      <th>2023-12-01 11:55:00</th>\n      <td>147.940994</td>\n      <td>JPY=X</td>\n    </tr>\n    <tr>\n      <th>2023-12-01 11:55:00</th>\n      <td>1.354170</td>\n      <td>CAD=X</td>\n    </tr>\n    <tr>\n      <th>2023-12-01 11:55:00</th>\n      <td>1.264760</td>\n      <td>GBPUSD=X</td>\n    </tr>\n    <tr>\n      <th>2023-12-01 11:55:00</th>\n      <td>1.090760</td>\n      <td>EURUSD=X</td>\n    </tr>\n    <tr>\n      <th>2023-12-01 11:55:00</th>\n      <td>147.942001</td>\n      <td>JPY=X</td>\n    </tr>\n    <tr>\n      <th>2023-12-01 11:55:00</th>\n      <td>1.264770</td>\n      <td>GBPUSD=X</td>\n    </tr>\n    <tr>\n      <th>2023-12-01 11:55:00</th>\n      <td>147.940994</td>\n      <td>JPY=X</td>\n    </tr>\n    <tr>\n      <th>2023-12-01 11:55:00</th>\n      <td>1.090750</td>\n      <td>EURUSD=X</td>\n    </tr>\n    <tr>\n      <th>2023-12-01 11:55:00</th>\n      <td>1.354160</td>\n      <td>CAD=X</td>\n    </tr>\n    <tr>\n      <th>2023-12-01 11:55:00</th>\n      <td>147.940994</td>\n      <td>JPY=X</td>\n    </tr>\n    <tr>\n      <th>2023-12-01 11:55:00</th>\n      <td>0.874200</td>\n      <td>CHF=X</td>\n    </tr>\n    <tr>\n      <th>2023-12-01 11:55:00</th>\n      <td>1.264780</td>\n      <td>GBPUSD=X</td>\n    </tr>\n    <tr>\n      <th>2023-12-01 11:55:00</th>\n      <td>1.090760</td>\n      <td>EURUSD=X</td>\n    </tr>\n    <tr>\n      <th>2023-12-01 11:55:00</th>\n      <td>0.874150</td>\n      <td>CHF=X</td>\n    </tr>\n    <tr>\n      <th>2023-12-01 11:55:00</th>\n      <td>147.936996</td>\n      <td>JPY=X</td>\n    </tr>\n    <tr>\n      <th>2023-12-01 11:55:00</th>\n      <td>0.874190</td>\n      <td>CHF=X</td>\n    </tr>\n    <tr>\n      <th>2023-12-01 11:55:00</th>\n      <td>1.090750</td>\n      <td>EURUSD=X</td>\n    </tr>\n    <tr>\n      <th>2023-12-01 11:55:00</th>\n      <td>1.354170</td>\n      <td>CAD=X</td>\n    </tr>\n    <tr>\n      <th>2023-12-01 11:55:00</th>\n      <td>0.874140</td>\n      <td>CHF=X</td>\n    </tr>\n    <tr>\n      <th>2023-12-01 11:55:00</th>\n      <td>147.940002</td>\n      <td>JPY=X</td>\n    </tr>\n    <tr>\n      <th>2023-12-01 11:55:00</th>\n      <td>1.090750</td>\n      <td>EURUSD=X</td>\n    </tr>\n  </tbody>\n</table>\n</div>"
     },
     "execution_count": 15,
     "metadata": {},
     "output_type": "execute_result"
    }
   ],
   "source": [
    "data"
   ],
   "metadata": {
    "collapsed": false,
    "ExecuteTime": {
     "end_time": "2023-12-01T02:57:45.589990Z",
     "start_time": "2023-12-01T02:57:45.570470Z"
    }
   },
   "id": "4262c72024c298a4"
  },
  {
   "cell_type": "code",
   "execution_count": 24,
   "outputs": [],
   "source": [
    "agg = data.groupby([\"currency\", \"datetime\"]).agg(['first', 'min', 'max', 'last']).reset_index()"
   ],
   "metadata": {
    "collapsed": false,
    "ExecuteTime": {
     "end_time": "2023-12-01T03:02:32.554800Z",
     "start_time": "2023-12-01T03:02:32.540112Z"
    }
   },
   "id": "e45afae86c1e4c9c"
  },
  {
   "cell_type": "code",
   "execution_count": 32,
   "outputs": [],
   "source": [
    "agg_u = agg[agg[\"currency\"] == \"JPY=X\"]"
   ],
   "metadata": {
    "collapsed": false,
    "ExecuteTime": {
     "end_time": "2023-12-01T03:06:21.416145Z",
     "start_time": "2023-12-01T03:06:21.411718Z"
    }
   },
   "id": "3f653960346bcd3"
  },
  {
   "cell_type": "code",
   "execution_count": 33,
   "outputs": [],
   "source": [
    "fd = pd.DataFrame({\"datetime\": agg_u[\"datetime\"], \"open\": agg_u[\"price\"][\"first\"], \"high\": agg_u[\"price\"][\"max\"]})"
   ],
   "metadata": {
    "collapsed": false,
    "ExecuteTime": {
     "end_time": "2023-12-01T03:06:59.471558Z",
     "start_time": "2023-12-01T03:06:59.457427Z"
    }
   },
   "id": "23046bbb5d5fd632"
  },
  {
   "cell_type": "code",
   "execution_count": 34,
   "outputs": [
    {
     "data": {
      "text/plain": "              datetime        open        high\n4  2023-12-01 11:55:00  147.942993  147.942993",
      "text/html": "<div>\n<style scoped>\n    .dataframe tbody tr th:only-of-type {\n        vertical-align: middle;\n    }\n\n    .dataframe tbody tr th {\n        vertical-align: top;\n    }\n\n    .dataframe thead th {\n        text-align: right;\n    }\n</style>\n<table border=\"1\" class=\"dataframe\">\n  <thead>\n    <tr style=\"text-align: right;\">\n      <th></th>\n      <th>datetime</th>\n      <th>open</th>\n      <th>high</th>\n    </tr>\n  </thead>\n  <tbody>\n    <tr>\n      <th>4</th>\n      <td>2023-12-01 11:55:00</td>\n      <td>147.942993</td>\n      <td>147.942993</td>\n    </tr>\n  </tbody>\n</table>\n</div>"
     },
     "execution_count": 34,
     "metadata": {},
     "output_type": "execute_result"
    }
   ],
   "source": [
    "fd"
   ],
   "metadata": {
    "collapsed": false,
    "ExecuteTime": {
     "end_time": "2023-12-01T03:07:00.609306Z",
     "start_time": "2023-12-01T03:07:00.598052Z"
    }
   },
   "id": "83afba1b1662be32"
  },
  {
   "cell_type": "code",
   "execution_count": 35,
   "outputs": [],
   "source": [
    "import datetime"
   ],
   "metadata": {
    "collapsed": false,
    "ExecuteTime": {
     "end_time": "2023-12-01T03:11:43.339796Z",
     "start_time": "2023-12-01T03:11:43.337906Z"
    }
   },
   "id": "948a98fb86084a0"
  },
  {
   "cell_type": "code",
   "execution_count": 45,
   "outputs": [
    {
     "data": {
      "text/plain": "datetime.datetime(2023, 12, 1, 12, 13, 4, 173522)"
     },
     "execution_count": 45,
     "metadata": {},
     "output_type": "execute_result"
    }
   ],
   "source": [
    "datetime.datetime.now()"
   ],
   "metadata": {
    "collapsed": false,
    "ExecuteTime": {
     "end_time": "2023-12-01T03:13:04.180190Z",
     "start_time": "2023-12-01T03:13:04.175283Z"
    }
   },
   "id": "21bb6a9458ce6dcc"
  },
  {
   "cell_type": "code",
   "execution_count": null,
   "outputs": [],
   "source": [],
   "metadata": {
    "collapsed": false
   },
   "id": "80dfdfdde7af8f36"
  }
 ],
 "metadata": {
  "kernelspec": {
   "display_name": "Python 3",
   "language": "python",
   "name": "python3"
  },
  "language_info": {
   "codemirror_mode": {
    "name": "ipython",
    "version": 2
   },
   "file_extension": ".py",
   "mimetype": "text/x-python",
   "name": "python",
   "nbconvert_exporter": "python",
   "pygments_lexer": "ipython2",
   "version": "2.7.6"
  }
 },
 "nbformat": 4,
 "nbformat_minor": 5
}
