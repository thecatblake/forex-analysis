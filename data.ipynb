{
 "cells": [
  {
   "cell_type": "code",
   "execution_count": 2,
   "id": "initial_id",
   "metadata": {
    "collapsed": true,
    "ExecuteTime": {
     "end_time": "2023-11-26T00:24:08.657411Z",
     "start_time": "2023-11-26T00:24:08.409328Z"
    }
   },
   "outputs": [],
   "source": [
    "import pandas as pd"
   ]
  },
  {
   "cell_type": "code",
   "execution_count": 3,
   "outputs": [],
   "source": [
    "data = pd.read_table(\"./data/EURUSD1440.csv\", names=[\"datetime\", \"open\", \"high\", \"low\", \"close\", \"volume\"])\n",
    "\n",
    "num = data.shape[0]"
   ],
   "metadata": {
    "collapsed": false,
    "ExecuteTime": {
     "end_time": "2023-11-26T00:24:08.731977Z",
     "start_time": "2023-11-26T00:24:08.719371Z"
    }
   },
   "id": "fc7585b3602778b1"
  },
  {
   "cell_type": "code",
   "execution_count": 4,
   "outputs": [
    {
     "data": {
      "text/plain": "           datetime     open     high      low    close  volume\n0  2007-11-14 00:00  1.46492  1.46534  1.46381  1.46492    6514\n1  2007-11-15 00:00  1.46490  1.47038  1.46009  1.46174  860157\n2  2007-11-16 00:00  1.46181  1.46721  1.45786  1.46584  836881\n3  2007-11-18 00:00  1.46689  1.46733  1.46618  1.46670   22169\n4  2007-11-19 00:00  1.46682  1.46884  1.46170  1.46656  859485",
      "text/html": "<div>\n<style scoped>\n    .dataframe tbody tr th:only-of-type {\n        vertical-align: middle;\n    }\n\n    .dataframe tbody tr th {\n        vertical-align: top;\n    }\n\n    .dataframe thead th {\n        text-align: right;\n    }\n</style>\n<table border=\"1\" class=\"dataframe\">\n  <thead>\n    <tr style=\"text-align: right;\">\n      <th></th>\n      <th>datetime</th>\n      <th>open</th>\n      <th>high</th>\n      <th>low</th>\n      <th>close</th>\n      <th>volume</th>\n    </tr>\n  </thead>\n  <tbody>\n    <tr>\n      <th>0</th>\n      <td>2007-11-14 00:00</td>\n      <td>1.46492</td>\n      <td>1.46534</td>\n      <td>1.46381</td>\n      <td>1.46492</td>\n      <td>6514</td>\n    </tr>\n    <tr>\n      <th>1</th>\n      <td>2007-11-15 00:00</td>\n      <td>1.46490</td>\n      <td>1.47038</td>\n      <td>1.46009</td>\n      <td>1.46174</td>\n      <td>860157</td>\n    </tr>\n    <tr>\n      <th>2</th>\n      <td>2007-11-16 00:00</td>\n      <td>1.46181</td>\n      <td>1.46721</td>\n      <td>1.45786</td>\n      <td>1.46584</td>\n      <td>836881</td>\n    </tr>\n    <tr>\n      <th>3</th>\n      <td>2007-11-18 00:00</td>\n      <td>1.46689</td>\n      <td>1.46733</td>\n      <td>1.46618</td>\n      <td>1.46670</td>\n      <td>22169</td>\n    </tr>\n    <tr>\n      <th>4</th>\n      <td>2007-11-19 00:00</td>\n      <td>1.46682</td>\n      <td>1.46884</td>\n      <td>1.46170</td>\n      <td>1.46656</td>\n      <td>859485</td>\n    </tr>\n  </tbody>\n</table>\n</div>"
     },
     "execution_count": 4,
     "metadata": {},
     "output_type": "execute_result"
    }
   ],
   "source": [
    "data.head()"
   ],
   "metadata": {
    "collapsed": false,
    "ExecuteTime": {
     "end_time": "2023-11-26T00:24:09.070013Z",
     "start_time": "2023-11-26T00:24:09.047275Z"
    }
   },
   "id": "ad99a4bd796267c0"
  },
  {
   "cell_type": "code",
   "execution_count": 5,
   "outputs": [
    {
     "data": {
      "text/plain": "           datetime     open     high      low    close  volume\n0  2007-11-14 00:00  1.46492  1.46534  1.46381  1.46492    6514\n1  2007-11-15 00:00  1.46490  1.47038  1.46009  1.46174  860157\n2  2007-11-16 00:00  1.46181  1.46721  1.45786  1.46584  836881\n3  2007-11-18 00:00  1.46689  1.46733  1.46618  1.46670   22169\n4  2007-11-19 00:00  1.46682  1.46884  1.46170  1.46656  859485\n5  2007-11-20 00:00  1.46657  1.48517  1.46303  1.48295  858066",
      "text/html": "<div>\n<style scoped>\n    .dataframe tbody tr th:only-of-type {\n        vertical-align: middle;\n    }\n\n    .dataframe tbody tr th {\n        vertical-align: top;\n    }\n\n    .dataframe thead th {\n        text-align: right;\n    }\n</style>\n<table border=\"1\" class=\"dataframe\">\n  <thead>\n    <tr style=\"text-align: right;\">\n      <th></th>\n      <th>datetime</th>\n      <th>open</th>\n      <th>high</th>\n      <th>low</th>\n      <th>close</th>\n      <th>volume</th>\n    </tr>\n  </thead>\n  <tbody>\n    <tr>\n      <th>0</th>\n      <td>2007-11-14 00:00</td>\n      <td>1.46492</td>\n      <td>1.46534</td>\n      <td>1.46381</td>\n      <td>1.46492</td>\n      <td>6514</td>\n    </tr>\n    <tr>\n      <th>1</th>\n      <td>2007-11-15 00:00</td>\n      <td>1.46490</td>\n      <td>1.47038</td>\n      <td>1.46009</td>\n      <td>1.46174</td>\n      <td>860157</td>\n    </tr>\n    <tr>\n      <th>2</th>\n      <td>2007-11-16 00:00</td>\n      <td>1.46181</td>\n      <td>1.46721</td>\n      <td>1.45786</td>\n      <td>1.46584</td>\n      <td>836881</td>\n    </tr>\n    <tr>\n      <th>3</th>\n      <td>2007-11-18 00:00</td>\n      <td>1.46689</td>\n      <td>1.46733</td>\n      <td>1.46618</td>\n      <td>1.46670</td>\n      <td>22169</td>\n    </tr>\n    <tr>\n      <th>4</th>\n      <td>2007-11-19 00:00</td>\n      <td>1.46682</td>\n      <td>1.46884</td>\n      <td>1.46170</td>\n      <td>1.46656</td>\n      <td>859485</td>\n    </tr>\n    <tr>\n      <th>5</th>\n      <td>2007-11-20 00:00</td>\n      <td>1.46657</td>\n      <td>1.48517</td>\n      <td>1.46303</td>\n      <td>1.48295</td>\n      <td>858066</td>\n    </tr>\n  </tbody>\n</table>\n</div>"
     },
     "execution_count": 5,
     "metadata": {},
     "output_type": "execute_result"
    }
   ],
   "source": [
    "data[(data[\"datetime\"] >= \"2007-11-14 00:00\") & (data[\"datetime\"] <= \"2007-11-20 00:00\")]"
   ],
   "metadata": {
    "collapsed": false,
    "ExecuteTime": {
     "end_time": "2023-11-26T00:24:09.646353Z",
     "start_time": "2023-11-26T00:24:09.636632Z"
    }
   },
   "id": "2cd1988c4174bdc0"
  },
  {
   "cell_type": "code",
   "execution_count": 6,
   "outputs": [],
   "source": [
    "data[\"datetime\"] = pd.to_datetime(data[\"datetime\"])"
   ],
   "metadata": {
    "collapsed": false,
    "ExecuteTime": {
     "end_time": "2023-11-26T00:24:10.113385Z",
     "start_time": "2023-11-26T00:24:10.106829Z"
    }
   },
   "id": "92a097590d1d2ab4"
  },
  {
   "cell_type": "code",
   "execution_count": 7,
   "outputs": [
    {
     "data": {
      "text/plain": "    datetime     open     high      low    close  volume\n0 2007-11-14  1.46492  1.46534  1.46381  1.46492    6514\n1 2007-11-15  1.46490  1.47038  1.46009  1.46174  860157\n2 2007-11-16  1.46181  1.46721  1.45786  1.46584  836881\n3 2007-11-18  1.46689  1.46733  1.46618  1.46670   22169\n4 2007-11-19  1.46682  1.46884  1.46170  1.46656  859485\n5 2007-11-20  1.46657  1.48517  1.46303  1.48295  858066",
      "text/html": "<div>\n<style scoped>\n    .dataframe tbody tr th:only-of-type {\n        vertical-align: middle;\n    }\n\n    .dataframe tbody tr th {\n        vertical-align: top;\n    }\n\n    .dataframe thead th {\n        text-align: right;\n    }\n</style>\n<table border=\"1\" class=\"dataframe\">\n  <thead>\n    <tr style=\"text-align: right;\">\n      <th></th>\n      <th>datetime</th>\n      <th>open</th>\n      <th>high</th>\n      <th>low</th>\n      <th>close</th>\n      <th>volume</th>\n    </tr>\n  </thead>\n  <tbody>\n    <tr>\n      <th>0</th>\n      <td>2007-11-14</td>\n      <td>1.46492</td>\n      <td>1.46534</td>\n      <td>1.46381</td>\n      <td>1.46492</td>\n      <td>6514</td>\n    </tr>\n    <tr>\n      <th>1</th>\n      <td>2007-11-15</td>\n      <td>1.46490</td>\n      <td>1.47038</td>\n      <td>1.46009</td>\n      <td>1.46174</td>\n      <td>860157</td>\n    </tr>\n    <tr>\n      <th>2</th>\n      <td>2007-11-16</td>\n      <td>1.46181</td>\n      <td>1.46721</td>\n      <td>1.45786</td>\n      <td>1.46584</td>\n      <td>836881</td>\n    </tr>\n    <tr>\n      <th>3</th>\n      <td>2007-11-18</td>\n      <td>1.46689</td>\n      <td>1.46733</td>\n      <td>1.46618</td>\n      <td>1.46670</td>\n      <td>22169</td>\n    </tr>\n    <tr>\n      <th>4</th>\n      <td>2007-11-19</td>\n      <td>1.46682</td>\n      <td>1.46884</td>\n      <td>1.46170</td>\n      <td>1.46656</td>\n      <td>859485</td>\n    </tr>\n    <tr>\n      <th>5</th>\n      <td>2007-11-20</td>\n      <td>1.46657</td>\n      <td>1.48517</td>\n      <td>1.46303</td>\n      <td>1.48295</td>\n      <td>858066</td>\n    </tr>\n  </tbody>\n</table>\n</div>"
     },
     "execution_count": 7,
     "metadata": {},
     "output_type": "execute_result"
    }
   ],
   "source": [
    "data[(data[\"datetime\"] >= \"2007-11-14 00:00\") & (data[\"datetime\"] <= \"2007-11-20 00:00\")]"
   ],
   "metadata": {
    "collapsed": false,
    "ExecuteTime": {
     "end_time": "2023-11-26T00:24:10.508213Z",
     "start_time": "2023-11-26T00:24:10.497041Z"
    }
   },
   "id": "df1716541ba4dd4d"
  },
  {
   "cell_type": "code",
   "execution_count": 8,
   "outputs": [
    {
     "data": {
      "text/plain": "datetime    2007-11-14 00:00:00\nopen                    1.46492\nhigh                    1.46534\nlow                     1.46381\nclose                   1.46492\nvolume                     6514\nName: 0, dtype: object"
     },
     "execution_count": 8,
     "metadata": {},
     "output_type": "execute_result"
    }
   ],
   "source": [
    "data.iloc[0]"
   ],
   "metadata": {
    "collapsed": false,
    "ExecuteTime": {
     "end_time": "2023-11-26T00:24:11.092818Z",
     "start_time": "2023-11-26T00:24:11.089055Z"
    }
   },
   "id": "889719cc42a0c563"
  },
  {
   "cell_type": "code",
   "execution_count": 11,
   "outputs": [
    {
     "data": {
      "text/plain": "              open         high          low        close        volume\ncount  5014.000000  5014.000000  5014.000000  5014.000000  5.014000e+03\nmean      1.230038     1.234664     1.225437     1.229998  2.444820e+05\nmin       0.959530     0.967070     0.953570     0.959530  3.000000e+00\n25%       1.115500     1.119073     1.112283     1.115498  8.066250e+04\n50%       1.193475     1.196825     1.190175     1.193555  1.921500e+05\n75%       1.337885     1.342675     1.333300     1.338080  2.766382e+05\nmax       1.597200     1.603890     1.589540     1.597210  1.723532e+06\nstd       0.137595     0.138477     0.136593     0.137557  2.434315e+05",
      "text/html": "<div>\n<style scoped>\n    .dataframe tbody tr th:only-of-type {\n        vertical-align: middle;\n    }\n\n    .dataframe tbody tr th {\n        vertical-align: top;\n    }\n\n    .dataframe thead th {\n        text-align: right;\n    }\n</style>\n<table border=\"1\" class=\"dataframe\">\n  <thead>\n    <tr style=\"text-align: right;\">\n      <th></th>\n      <th>open</th>\n      <th>high</th>\n      <th>low</th>\n      <th>close</th>\n      <th>volume</th>\n    </tr>\n  </thead>\n  <tbody>\n    <tr>\n      <th>count</th>\n      <td>5014.000000</td>\n      <td>5014.000000</td>\n      <td>5014.000000</td>\n      <td>5014.000000</td>\n      <td>5.014000e+03</td>\n    </tr>\n    <tr>\n      <th>mean</th>\n      <td>1.230038</td>\n      <td>1.234664</td>\n      <td>1.225437</td>\n      <td>1.229998</td>\n      <td>2.444820e+05</td>\n    </tr>\n    <tr>\n      <th>min</th>\n      <td>0.959530</td>\n      <td>0.967070</td>\n      <td>0.953570</td>\n      <td>0.959530</td>\n      <td>3.000000e+00</td>\n    </tr>\n    <tr>\n      <th>25%</th>\n      <td>1.115500</td>\n      <td>1.119073</td>\n      <td>1.112283</td>\n      <td>1.115498</td>\n      <td>8.066250e+04</td>\n    </tr>\n    <tr>\n      <th>50%</th>\n      <td>1.193475</td>\n      <td>1.196825</td>\n      <td>1.190175</td>\n      <td>1.193555</td>\n      <td>1.921500e+05</td>\n    </tr>\n    <tr>\n      <th>75%</th>\n      <td>1.337885</td>\n      <td>1.342675</td>\n      <td>1.333300</td>\n      <td>1.338080</td>\n      <td>2.766382e+05</td>\n    </tr>\n    <tr>\n      <th>max</th>\n      <td>1.597200</td>\n      <td>1.603890</td>\n      <td>1.589540</td>\n      <td>1.597210</td>\n      <td>1.723532e+06</td>\n    </tr>\n    <tr>\n      <th>std</th>\n      <td>0.137595</td>\n      <td>0.138477</td>\n      <td>0.136593</td>\n      <td>0.137557</td>\n      <td>2.434315e+05</td>\n    </tr>\n  </tbody>\n</table>\n</div>"
     },
     "execution_count": 11,
     "metadata": {},
     "output_type": "execute_result"
    }
   ],
   "source": [
    "data.describe()[[\"open\", \"high\", \"low\", \"close\", \"volume\"]]"
   ],
   "metadata": {
    "collapsed": false,
    "ExecuteTime": {
     "end_time": "2023-11-26T00:50:05.105325Z",
     "start_time": "2023-11-26T00:50:05.084075Z"
    }
   },
   "id": "7e55b9684d0037d3"
  },
  {
   "cell_type": "code",
   "execution_count": null,
   "outputs": [],
   "source": [],
   "metadata": {
    "collapsed": false
   },
   "id": "1383f693d718208b"
  }
 ],
 "metadata": {
  "kernelspec": {
   "display_name": "Python 3",
   "language": "python",
   "name": "python3"
  },
  "language_info": {
   "codemirror_mode": {
    "name": "ipython",
    "version": 2
   },
   "file_extension": ".py",
   "mimetype": "text/x-python",
   "name": "python",
   "nbconvert_exporter": "python",
   "pygments_lexer": "ipython2",
   "version": "2.7.6"
  }
 },
 "nbformat": 4,
 "nbformat_minor": 5
}
