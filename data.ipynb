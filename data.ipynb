{
 "cells": [
  {
   "cell_type": "code",
   "execution_count": 1,
   "id": "initial_id",
   "metadata": {
    "collapsed": true,
    "ExecuteTime": {
     "end_time": "2023-11-25T02:36:39.067206Z",
     "start_time": "2023-11-25T02:36:38.439976Z"
    }
   },
   "outputs": [],
   "source": [
    "import pandas as pd"
   ]
  },
  {
   "cell_type": "code",
   "execution_count": 18,
   "outputs": [],
   "source": [
    "data = pd.read_table(\"./data/EURUSD1440.csv\", names=[\"datetime\", \"open\", \"high\", \"low\", \"close\", \"volume\"])\n",
    "\n",
    "num = data.shape[0]"
   ],
   "metadata": {
    "collapsed": false,
    "ExecuteTime": {
     "end_time": "2023-11-25T02:41:01.589316Z",
     "start_time": "2023-11-25T02:41:01.575789Z"
    }
   },
   "id": "fc7585b3602778b1"
  },
  {
   "cell_type": "code",
   "execution_count": 19,
   "outputs": [
    {
     "data": {
      "text/plain": "           datetime     open     high      low    close  volume\n0  2007-11-14 00:00  1.46492  1.46534  1.46381  1.46492    6514\n1  2007-11-15 00:00  1.46490  1.47038  1.46009  1.46174  860157\n2  2007-11-16 00:00  1.46181  1.46721  1.45786  1.46584  836881\n3  2007-11-18 00:00  1.46689  1.46733  1.46618  1.46670   22169\n4  2007-11-19 00:00  1.46682  1.46884  1.46170  1.46656  859485",
      "text/html": "<div>\n<style scoped>\n    .dataframe tbody tr th:only-of-type {\n        vertical-align: middle;\n    }\n\n    .dataframe tbody tr th {\n        vertical-align: top;\n    }\n\n    .dataframe thead th {\n        text-align: right;\n    }\n</style>\n<table border=\"1\" class=\"dataframe\">\n  <thead>\n    <tr style=\"text-align: right;\">\n      <th></th>\n      <th>datetime</th>\n      <th>open</th>\n      <th>high</th>\n      <th>low</th>\n      <th>close</th>\n      <th>volume</th>\n    </tr>\n  </thead>\n  <tbody>\n    <tr>\n      <th>0</th>\n      <td>2007-11-14 00:00</td>\n      <td>1.46492</td>\n      <td>1.46534</td>\n      <td>1.46381</td>\n      <td>1.46492</td>\n      <td>6514</td>\n    </tr>\n    <tr>\n      <th>1</th>\n      <td>2007-11-15 00:00</td>\n      <td>1.46490</td>\n      <td>1.47038</td>\n      <td>1.46009</td>\n      <td>1.46174</td>\n      <td>860157</td>\n    </tr>\n    <tr>\n      <th>2</th>\n      <td>2007-11-16 00:00</td>\n      <td>1.46181</td>\n      <td>1.46721</td>\n      <td>1.45786</td>\n      <td>1.46584</td>\n      <td>836881</td>\n    </tr>\n    <tr>\n      <th>3</th>\n      <td>2007-11-18 00:00</td>\n      <td>1.46689</td>\n      <td>1.46733</td>\n      <td>1.46618</td>\n      <td>1.46670</td>\n      <td>22169</td>\n    </tr>\n    <tr>\n      <th>4</th>\n      <td>2007-11-19 00:00</td>\n      <td>1.46682</td>\n      <td>1.46884</td>\n      <td>1.46170</td>\n      <td>1.46656</td>\n      <td>859485</td>\n    </tr>\n  </tbody>\n</table>\n</div>"
     },
     "execution_count": 19,
     "metadata": {},
     "output_type": "execute_result"
    }
   ],
   "source": [
    "data.head()"
   ],
   "metadata": {
    "collapsed": false,
    "ExecuteTime": {
     "end_time": "2023-11-25T02:41:02.009281Z",
     "start_time": "2023-11-25T02:41:02.005651Z"
    }
   },
   "id": "ad99a4bd796267c0"
  },
  {
   "cell_type": "code",
   "execution_count": 22,
   "outputs": [
    {
     "data": {
      "text/plain": "           datetime     open     high      low    close  volume\n0  2007-11-14 00:00  1.46492  1.46534  1.46381  1.46492    6514\n1  2007-11-15 00:00  1.46490  1.47038  1.46009  1.46174  860157\n2  2007-11-16 00:00  1.46181  1.46721  1.45786  1.46584  836881\n3  2007-11-18 00:00  1.46689  1.46733  1.46618  1.46670   22169\n4  2007-11-19 00:00  1.46682  1.46884  1.46170  1.46656  859485\n5  2007-11-20 00:00  1.46657  1.48517  1.46303  1.48295  858066",
      "text/html": "<div>\n<style scoped>\n    .dataframe tbody tr th:only-of-type {\n        vertical-align: middle;\n    }\n\n    .dataframe tbody tr th {\n        vertical-align: top;\n    }\n\n    .dataframe thead th {\n        text-align: right;\n    }\n</style>\n<table border=\"1\" class=\"dataframe\">\n  <thead>\n    <tr style=\"text-align: right;\">\n      <th></th>\n      <th>datetime</th>\n      <th>open</th>\n      <th>high</th>\n      <th>low</th>\n      <th>close</th>\n      <th>volume</th>\n    </tr>\n  </thead>\n  <tbody>\n    <tr>\n      <th>0</th>\n      <td>2007-11-14 00:00</td>\n      <td>1.46492</td>\n      <td>1.46534</td>\n      <td>1.46381</td>\n      <td>1.46492</td>\n      <td>6514</td>\n    </tr>\n    <tr>\n      <th>1</th>\n      <td>2007-11-15 00:00</td>\n      <td>1.46490</td>\n      <td>1.47038</td>\n      <td>1.46009</td>\n      <td>1.46174</td>\n      <td>860157</td>\n    </tr>\n    <tr>\n      <th>2</th>\n      <td>2007-11-16 00:00</td>\n      <td>1.46181</td>\n      <td>1.46721</td>\n      <td>1.45786</td>\n      <td>1.46584</td>\n      <td>836881</td>\n    </tr>\n    <tr>\n      <th>3</th>\n      <td>2007-11-18 00:00</td>\n      <td>1.46689</td>\n      <td>1.46733</td>\n      <td>1.46618</td>\n      <td>1.46670</td>\n      <td>22169</td>\n    </tr>\n    <tr>\n      <th>4</th>\n      <td>2007-11-19 00:00</td>\n      <td>1.46682</td>\n      <td>1.46884</td>\n      <td>1.46170</td>\n      <td>1.46656</td>\n      <td>859485</td>\n    </tr>\n    <tr>\n      <th>5</th>\n      <td>2007-11-20 00:00</td>\n      <td>1.46657</td>\n      <td>1.48517</td>\n      <td>1.46303</td>\n      <td>1.48295</td>\n      <td>858066</td>\n    </tr>\n  </tbody>\n</table>\n</div>"
     },
     "execution_count": 22,
     "metadata": {},
     "output_type": "execute_result"
    }
   ],
   "source": [
    "data[(data[\"datetime\"] >= \"2007-11-14 00:00\") & (data[\"datetime\"] <= \"2007-11-20 00:00\")]"
   ],
   "metadata": {
    "collapsed": false,
    "ExecuteTime": {
     "end_time": "2023-11-25T02:41:45.018711Z",
     "start_time": "2023-11-25T02:41:45.011489Z"
    }
   },
   "id": "2cd1988c4174bdc0"
  },
  {
   "cell_type": "code",
   "execution_count": 23,
   "outputs": [],
   "source": [
    "data[\"datetime\"] = pd.to_datetime(data[\"datetime\"])"
   ],
   "metadata": {
    "collapsed": false,
    "ExecuteTime": {
     "end_time": "2023-11-25T02:48:33.117407Z",
     "start_time": "2023-11-25T02:48:33.115594Z"
    }
   },
   "id": "92a097590d1d2ab4"
  },
  {
   "cell_type": "code",
   "execution_count": 24,
   "outputs": [
    {
     "data": {
      "text/plain": "    datetime     open     high      low    close  volume\n0 2007-11-14  1.46492  1.46534  1.46381  1.46492    6514\n1 2007-11-15  1.46490  1.47038  1.46009  1.46174  860157\n2 2007-11-16  1.46181  1.46721  1.45786  1.46584  836881\n3 2007-11-18  1.46689  1.46733  1.46618  1.46670   22169\n4 2007-11-19  1.46682  1.46884  1.46170  1.46656  859485\n5 2007-11-20  1.46657  1.48517  1.46303  1.48295  858066",
      "text/html": "<div>\n<style scoped>\n    .dataframe tbody tr th:only-of-type {\n        vertical-align: middle;\n    }\n\n    .dataframe tbody tr th {\n        vertical-align: top;\n    }\n\n    .dataframe thead th {\n        text-align: right;\n    }\n</style>\n<table border=\"1\" class=\"dataframe\">\n  <thead>\n    <tr style=\"text-align: right;\">\n      <th></th>\n      <th>datetime</th>\n      <th>open</th>\n      <th>high</th>\n      <th>low</th>\n      <th>close</th>\n      <th>volume</th>\n    </tr>\n  </thead>\n  <tbody>\n    <tr>\n      <th>0</th>\n      <td>2007-11-14</td>\n      <td>1.46492</td>\n      <td>1.46534</td>\n      <td>1.46381</td>\n      <td>1.46492</td>\n      <td>6514</td>\n    </tr>\n    <tr>\n      <th>1</th>\n      <td>2007-11-15</td>\n      <td>1.46490</td>\n      <td>1.47038</td>\n      <td>1.46009</td>\n      <td>1.46174</td>\n      <td>860157</td>\n    </tr>\n    <tr>\n      <th>2</th>\n      <td>2007-11-16</td>\n      <td>1.46181</td>\n      <td>1.46721</td>\n      <td>1.45786</td>\n      <td>1.46584</td>\n      <td>836881</td>\n    </tr>\n    <tr>\n      <th>3</th>\n      <td>2007-11-18</td>\n      <td>1.46689</td>\n      <td>1.46733</td>\n      <td>1.46618</td>\n      <td>1.46670</td>\n      <td>22169</td>\n    </tr>\n    <tr>\n      <th>4</th>\n      <td>2007-11-19</td>\n      <td>1.46682</td>\n      <td>1.46884</td>\n      <td>1.46170</td>\n      <td>1.46656</td>\n      <td>859485</td>\n    </tr>\n    <tr>\n      <th>5</th>\n      <td>2007-11-20</td>\n      <td>1.46657</td>\n      <td>1.48517</td>\n      <td>1.46303</td>\n      <td>1.48295</td>\n      <td>858066</td>\n    </tr>\n  </tbody>\n</table>\n</div>"
     },
     "execution_count": 24,
     "metadata": {},
     "output_type": "execute_result"
    }
   ],
   "source": [
    "data[(data[\"datetime\"] >= \"2007-11-14 00:00\") & (data[\"datetime\"] <= \"2007-11-20 00:00\")]"
   ],
   "metadata": {
    "collapsed": false,
    "ExecuteTime": {
     "end_time": "2023-11-25T02:48:38.828417Z",
     "start_time": "2023-11-25T02:48:38.814834Z"
    }
   },
   "id": "df1716541ba4dd4d"
  },
  {
   "cell_type": "code",
   "execution_count": 31,
   "outputs": [
    {
     "data": {
      "text/plain": "datetime    2007-11-14 00:00:00\nopen                    1.46492\nhigh                    1.46534\nlow                     1.46381\nclose                   1.46492\nvolume                     6514\nName: 0, dtype: object"
     },
     "execution_count": 31,
     "metadata": {},
     "output_type": "execute_result"
    }
   ],
   "source": [
    "data.iloc[0]"
   ],
   "metadata": {
    "collapsed": false,
    "ExecuteTime": {
     "end_time": "2023-11-25T04:18:54.482335Z",
     "start_time": "2023-11-25T04:18:54.476464Z"
    }
   },
   "id": "889719cc42a0c563"
  },
  {
   "cell_type": "code",
   "execution_count": null,
   "outputs": [],
   "source": [],
   "metadata": {
    "collapsed": false
   },
   "id": "7e55b9684d0037d3"
  }
 ],
 "metadata": {
  "kernelspec": {
   "display_name": "Python 3",
   "language": "python",
   "name": "python3"
  },
  "language_info": {
   "codemirror_mode": {
    "name": "ipython",
    "version": 2
   },
   "file_extension": ".py",
   "mimetype": "text/x-python",
   "name": "python",
   "nbconvert_exporter": "python",
   "pygments_lexer": "ipython2",
   "version": "2.7.6"
  }
 },
 "nbformat": 4,
 "nbformat_minor": 5
}
