{
 "cells": [
  {
   "cell_type": "code",
   "execution_count": 1,
   "id": "initial_id",
   "metadata": {
    "collapsed": true,
    "ExecuteTime": {
     "end_time": "2024-04-30T07:44:59.446363Z",
     "start_time": "2024-04-30T07:44:56.912501Z"
    }
   },
   "outputs": [
    {
     "name": "stderr",
     "output_type": "stream",
     "text": [
      "/Users/ryousukekaga/repositories/forex-analysis/venv/lib/python3.9/site-packages/urllib3/__init__.py:34: NotOpenSSLWarning: urllib3 v2 only supports OpenSSL 1.1.1+, currently the 'ssl' module is compiled with 'LibreSSL 2.8.3'. See: https://github.com/urllib3/urllib3/issues/3020\n",
      "  warnings.warn(\n"
     ]
    }
   ],
   "source": [
    "import numpy as np\n",
    "import pandas as pd\n",
    "from keras import datasets\n",
    "from keras.layers import Input, Dense, Conv1D, Conv1DTranspose, Flatten, Reshape, BatchNormalization\n",
    "from keras.models import Model\n",
    "import keras.backend as K\n",
    "from keras.optimizers.legacy import Adam\n",
    "import matplotlib.pyplot as plt\n",
    "from sklearn.preprocessing import StandardScaler, MinMaxScaler\n",
    "from sklearn.pipeline import make_pipeline\n",
    "from sklearn.impute import SimpleImputer\n",
    "from sklearn.compose import make_column_selector, make_column_transformer\n",
    "import mplfinance as mpf\n",
    "from vae import Sampling, VAE"
   ]
  },
  {
   "cell_type": "code",
   "outputs": [],
   "source": [
    "data = pd.read_table(\"../data/EURUSD_D1.csv\", names=[\"datetime\", \"open\", \"high\", \"low\", \"close\", \"volume\"])\n",
    "data.drop(\"volume\", inplace=True, axis=1)"
   ],
   "metadata": {
    "collapsed": false,
    "ExecuteTime": {
     "end_time": "2024-04-30T07:44:59.454566Z",
     "start_time": "2024-04-30T07:44:59.447082Z"
    }
   },
   "id": "7866661bb250b414",
   "execution_count": 2
  },
  {
   "cell_type": "code",
   "outputs": [],
   "source": [
    "num_pipeline = make_pipeline(\n",
    "    SimpleImputer(strategy=\"median\"),\n",
    "    MinMaxScaler()\n",
    ")\n",
    "\n",
    "preprocessing = make_column_transformer(\n",
    "    (num_pipeline, make_column_selector(dtype_include=np.number)),\n",
    "    verbose_feature_names_out=False\n",
    ")\n",
    "\n",
    "data = pd.DataFrame(preprocessing.fit_transform(data), columns=preprocessing.get_feature_names_out())\n",
    "\n",
    "num_data = data.select_dtypes(include=\"number\")"
   ],
   "metadata": {
    "collapsed": false,
    "ExecuteTime": {
     "end_time": "2024-04-30T07:44:59.464273Z",
     "start_time": "2024-04-30T07:44:59.455852Z"
    }
   },
   "id": "f65d52f10377dc16",
   "execution_count": 3
  },
  {
   "cell_type": "code",
   "outputs": [],
   "source": [
    "WINDOW = 24\n",
    "\n",
    "windows = np.array(list(num_data.rolling(window=WINDOW))[WINDOW:])\n",
    "EMBEDDING_DIM = 2"
   ],
   "metadata": {
    "collapsed": false,
    "ExecuteTime": {
     "end_time": "2024-04-30T07:44:59.595038Z",
     "start_time": "2024-04-30T07:44:59.465146Z"
    }
   },
   "id": "4e400f966c73b648",
   "execution_count": 4
  },
  {
   "cell_type": "code",
   "outputs": [],
   "source": [
    "encoder_input = Input(shape=(WINDOW, 4))\n",
    "x = Conv1D(32, 3, strides=2, activation='relu', padding=\"same\")(encoder_input)\n",
    "x = Conv1D(64, 3, strides=2, activation='relu', padding=\"same\")(x)\n",
    "x = Conv1D(128, 3, strides=2, activation='relu', padding=\"same\")(x)\n",
    "shape_before_flattening = K.int_shape(x)[1:]\n",
    "x = Flatten()(x)\n",
    "x = BatchNormalization()(x)\n",
    "z_mean = Dense(2, name=\"z_mean\")(x)\n",
    "z_log_var = Dense(2, name=\"z_log_var\")(x)\n",
    "z = Sampling()([z_mean, z_log_var])\n",
    "encoder = Model(encoder_input, [z_mean, z_log_var, z], name=\"encoder\")"
   ],
   "metadata": {
    "collapsed": false,
    "ExecuteTime": {
     "end_time": "2024-04-30T07:44:59.671478Z",
     "start_time": "2024-04-30T07:44:59.595905Z"
    }
   },
   "id": "bd443d38624edc31",
   "execution_count": 5
  },
  {
   "cell_type": "code",
   "outputs": [
    {
     "name": "stdout",
     "output_type": "stream",
     "text": [
      "Model: \"encoder\"\n",
      "__________________________________________________________________________________________________\n",
      " Layer (type)                Output Shape                 Param #   Connected to                  \n",
      "==================================================================================================\n",
      " input_1 (InputLayer)        [(None, 24, 4)]              0         []                            \n",
      "                                                                                                  \n",
      " conv1d (Conv1D)             (None, 12, 32)               416       ['input_1[0][0]']             \n",
      "                                                                                                  \n",
      " conv1d_1 (Conv1D)           (None, 6, 64)                6208      ['conv1d[0][0]']              \n",
      "                                                                                                  \n",
      " conv1d_2 (Conv1D)           (None, 3, 128)               24704     ['conv1d_1[0][0]']            \n",
      "                                                                                                  \n",
      " flatten (Flatten)           (None, 384)                  0         ['conv1d_2[0][0]']            \n",
      "                                                                                                  \n",
      " batch_normalization (Batch  (None, 384)                  1536      ['flatten[0][0]']             \n",
      " Normalization)                                                                                   \n",
      "                                                                                                  \n",
      " z_mean (Dense)              (None, 2)                    770       ['batch_normalization[0][0]'] \n",
      "                                                                                                  \n",
      " z_log_var (Dense)           (None, 2)                    770       ['batch_normalization[0][0]'] \n",
      "                                                                                                  \n",
      " sampling (Sampling)         (None, 2)                    0         ['z_mean[0][0]',              \n",
      "                                                                     'z_log_var[0][0]']           \n",
      "                                                                                                  \n",
      "==================================================================================================\n",
      "Total params: 34404 (134.39 KB)\n",
      "Trainable params: 33636 (131.39 KB)\n",
      "Non-trainable params: 768 (3.00 KB)\n",
      "__________________________________________________________________________________________________\n"
     ]
    }
   ],
   "source": [
    "encoder.summary()"
   ],
   "metadata": {
    "collapsed": false,
    "ExecuteTime": {
     "end_time": "2024-04-30T07:44:59.681856Z",
     "start_time": "2024-04-30T07:44:59.672232Z"
    }
   },
   "id": "fc6d1926faacaf27",
   "execution_count": 6
  },
  {
   "cell_type": "code",
   "outputs": [],
   "source": [
    "decoder_input = Input(shape=(EMBEDDING_DIM,), name=\"decoder_input\")\n",
    "x = Dense(np.prod(shape_before_flattening))(decoder_input)\n",
    "x = Reshape(shape_before_flattening)(x)\n",
    "x = BatchNormalization()(x)\n",
    "x = Conv1DTranspose(128, 3, strides=2, activation='relu', padding=\"same\")(x)\n",
    "x = Conv1DTranspose(64, 3, strides=2, activation='relu', padding=\"same\")(x)\n",
    "x = Conv1DTranspose(32, 3, strides=2, activation='relu', padding=\"same\")(x)\n",
    "decoder_output = Conv1D(4, 3, strides=1, activation=\"relu\", padding=\"same\")(x)\n",
    "decoder = Model(decoder_input, decoder_output)"
   ],
   "metadata": {
    "collapsed": false,
    "ExecuteTime": {
     "end_time": "2024-04-30T07:44:59.741226Z",
     "start_time": "2024-04-30T07:44:59.682628Z"
    }
   },
   "id": "8beee0e440f729d1",
   "execution_count": 7
  },
  {
   "cell_type": "code",
   "outputs": [
    {
     "name": "stdout",
     "output_type": "stream",
     "text": [
      "Model: \"model\"\n",
      "_________________________________________________________________\n",
      " Layer (type)                Output Shape              Param #   \n",
      "=================================================================\n",
      " decoder_input (InputLayer)  [(None, 2)]               0         \n",
      "                                                                 \n",
      " dense (Dense)               (None, 384)               1152      \n",
      "                                                                 \n",
      " reshape (Reshape)           (None, 3, 128)            0         \n",
      "                                                                 \n",
      " batch_normalization_1 (Bat  (None, 3, 128)            512       \n",
      " chNormalization)                                                \n",
      "                                                                 \n",
      " conv1d_transpose (Conv1DTr  (None, 6, 128)            49280     \n",
      " anspose)                                                        \n",
      "                                                                 \n",
      " conv1d_transpose_1 (Conv1D  (None, 12, 64)            24640     \n",
      " Transpose)                                                      \n",
      "                                                                 \n",
      " conv1d_transpose_2 (Conv1D  (None, 24, 32)            6176      \n",
      " Transpose)                                                      \n",
      "                                                                 \n",
      " conv1d_3 (Conv1D)           (None, 24, 4)             388       \n",
      "                                                                 \n",
      "=================================================================\n",
      "Total params: 82148 (320.89 KB)\n",
      "Trainable params: 81892 (319.89 KB)\n",
      "Non-trainable params: 256 (1.00 KB)\n",
      "_________________________________________________________________\n"
     ]
    }
   ],
   "source": [
    "decoder.summary()"
   ],
   "metadata": {
    "collapsed": false,
    "ExecuteTime": {
     "end_time": "2024-04-30T07:44:59.752972Z",
     "start_time": "2024-04-30T07:44:59.742162Z"
    }
   },
   "id": "cacfda01681f6f12",
   "execution_count": 8
  },
  {
   "cell_type": "code",
   "outputs": [
    {
     "name": "stdout",
     "output_type": "stream",
     "text": [
      "Model: \"model_1\"\n",
      "__________________________________________________________________________________________________\n",
      " Layer (type)                Output Shape                 Param #   Connected to                  \n",
      "==================================================================================================\n",
      " input_1 (InputLayer)        [(None, 24, 4)]              0         []                            \n",
      "                                                                                                  \n",
      " conv1d (Conv1D)             (None, 12, 32)               416       ['input_1[0][0]']             \n",
      "                                                                                                  \n",
      " conv1d_1 (Conv1D)           (None, 6, 64)                6208      ['conv1d[0][0]']              \n",
      "                                                                                                  \n",
      " conv1d_2 (Conv1D)           (None, 3, 128)               24704     ['conv1d_1[0][0]']            \n",
      "                                                                                                  \n",
      " flatten (Flatten)           (None, 384)                  0         ['conv1d_2[0][0]']            \n",
      "                                                                                                  \n",
      " batch_normalization (Batch  (None, 384)                  1536      ['flatten[0][0]']             \n",
      " Normalization)                                                                                   \n",
      "                                                                                                  \n",
      " z_mean (Dense)              (None, 2)                    770       ['batch_normalization[0][0]'] \n",
      "                                                                                                  \n",
      " z_log_var (Dense)           (None, 2)                    770       ['batch_normalization[0][0]'] \n",
      "                                                                                                  \n",
      " sampling (Sampling)         (None, 2)                    0         ['z_mean[0][0]',              \n",
      "                                                                     'z_log_var[0][0]']           \n",
      "                                                                                                  \n",
      " model (Functional)          (None, 24, 4)                82148     ['sampling[0][0]']            \n",
      "                                                                                                  \n",
      "==================================================================================================\n",
      "Total params: 116552 (455.28 KB)\n",
      "Trainable params: 115528 (451.28 KB)\n",
      "Non-trainable params: 1024 (4.00 KB)\n",
      "__________________________________________________________________________________________________\n"
     ]
    }
   ],
   "source": [
    "autoencoder = Model(encoder_input, decoder(z))\n",
    "autoencoder.summary()"
   ],
   "metadata": {
    "collapsed": false,
    "ExecuteTime": {
     "end_time": "2024-04-30T07:44:59.805302Z",
     "start_time": "2024-04-30T07:44:59.756309Z"
    }
   },
   "id": "4013f560400dc004",
   "execution_count": 9
  },
  {
   "cell_type": "code",
   "outputs": [],
   "source": [
    "optimizer = Adam(learning_rate=0.001)\n",
    "autoencoder.compile(optimizer=optimizer, loss=\"binary_crossentropy\")"
   ],
   "metadata": {
    "collapsed": false,
    "ExecuteTime": {
     "end_time": "2024-04-30T07:44:59.815284Z",
     "start_time": "2024-04-30T07:44:59.806224Z"
    }
   },
   "id": "2cbc1724b94bfaf0",
   "execution_count": 10
  },
  {
   "cell_type": "code",
   "outputs": [
    {
     "name": "stdout",
     "output_type": "stream",
     "text": [
      "Epoch 1/100\n",
      "50/50 [==============================] - 1s 6ms/step - loss: 1.2926\n",
      "Epoch 2/100\n",
      "50/50 [==============================] - 0s 7ms/step - loss: 0.6931\n",
      "Epoch 3/100\n",
      "50/50 [==============================] - 0s 7ms/step - loss: 0.6286\n",
      "Epoch 4/100\n",
      "50/50 [==============================] - 0s 7ms/step - loss: 0.6016\n",
      "Epoch 5/100\n",
      "50/50 [==============================] - 0s 7ms/step - loss: 0.5928\n",
      "Epoch 6/100\n",
      "50/50 [==============================] - 0s 8ms/step - loss: 0.5954\n",
      "Epoch 7/100\n",
      "50/50 [==============================] - 0s 8ms/step - loss: 0.5891\n",
      "Epoch 8/100\n",
      "50/50 [==============================] - 0s 8ms/step - loss: 0.5870\n",
      "Epoch 9/100\n",
      "50/50 [==============================] - 0s 8ms/step - loss: 0.5880\n",
      "Epoch 10/100\n",
      "50/50 [==============================] - 0s 8ms/step - loss: 0.5869\n",
      "Epoch 11/100\n",
      "50/50 [==============================] - 0s 8ms/step - loss: 0.5991\n",
      "Epoch 12/100\n",
      "50/50 [==============================] - 0s 8ms/step - loss: 0.5860\n",
      "Epoch 13/100\n",
      "50/50 [==============================] - 0s 9ms/step - loss: 0.5861\n",
      "Epoch 14/100\n",
      "50/50 [==============================] - 0s 9ms/step - loss: 0.5873\n",
      "Epoch 15/100\n",
      "50/50 [==============================] - 0s 9ms/step - loss: 0.5887\n",
      "Epoch 16/100\n",
      "50/50 [==============================] - 0s 9ms/step - loss: 0.5875\n",
      "Epoch 17/100\n",
      "50/50 [==============================] - 0s 10ms/step - loss: 0.5852\n",
      "Epoch 18/100\n",
      "50/50 [==============================] - 0s 10ms/step - loss: 0.5874\n",
      "Epoch 19/100\n",
      "50/50 [==============================] - 0s 9ms/step - loss: 0.5982\n",
      "Epoch 20/100\n",
      "50/50 [==============================] - 0s 9ms/step - loss: 0.5882\n",
      "Epoch 21/100\n",
      "50/50 [==============================] - 0s 10ms/step - loss: 0.5909\n",
      "Epoch 22/100\n",
      "50/50 [==============================] - 1s 11ms/step - loss: 0.5866\n",
      "Epoch 23/100\n",
      "50/50 [==============================] - 0s 9ms/step - loss: 0.5882\n",
      "Epoch 24/100\n",
      "50/50 [==============================] - 0s 9ms/step - loss: 0.6004\n",
      "Epoch 25/100\n",
      "50/50 [==============================] - 0s 10ms/step - loss: 0.6018\n",
      "Epoch 26/100\n",
      "50/50 [==============================] - 0s 9ms/step - loss: 0.5875\n",
      "Epoch 27/100\n",
      "50/50 [==============================] - 0s 8ms/step - loss: 0.5851\n",
      "Epoch 28/100\n",
      "50/50 [==============================] - 0s 8ms/step - loss: 0.5851\n",
      "Epoch 29/100\n",
      "50/50 [==============================] - 0s 8ms/step - loss: 0.5849\n",
      "Epoch 30/100\n",
      "50/50 [==============================] - 0s 8ms/step - loss: 0.5853\n",
      "Epoch 31/100\n",
      "50/50 [==============================] - 0s 8ms/step - loss: 0.5848\n",
      "Epoch 32/100\n",
      "50/50 [==============================] - 0s 8ms/step - loss: 0.5895\n",
      "Epoch 33/100\n",
      "50/50 [==============================] - 0s 8ms/step - loss: 0.5847\n",
      "Epoch 34/100\n",
      "50/50 [==============================] - 0s 9ms/step - loss: 0.5884\n",
      "Epoch 35/100\n",
      "50/50 [==============================] - 0s 9ms/step - loss: 0.5851\n",
      "Epoch 36/100\n",
      "50/50 [==============================] - 0s 9ms/step - loss: 0.5992\n",
      "Epoch 37/100\n",
      "50/50 [==============================] - 0s 8ms/step - loss: 0.5846\n",
      "Epoch 38/100\n",
      "50/50 [==============================] - 0s 9ms/step - loss: 0.5846\n",
      "Epoch 39/100\n",
      "50/50 [==============================] - 0s 9ms/step - loss: 0.5843\n",
      "Epoch 40/100\n",
      "50/50 [==============================] - 0s 9ms/step - loss: 0.6033\n",
      "Epoch 41/100\n",
      "50/50 [==============================] - 0s 9ms/step - loss: 0.5884\n",
      "Epoch 42/100\n",
      "50/50 [==============================] - 0s 9ms/step - loss: 0.5868\n",
      "Epoch 43/100\n",
      "50/50 [==============================] - 0s 10ms/step - loss: 0.5878\n",
      "Epoch 44/100\n",
      "50/50 [==============================] - 1s 10ms/step - loss: 0.5846\n",
      "Epoch 45/100\n",
      "50/50 [==============================] - 0s 10ms/step - loss: 0.5839\n",
      "Epoch 46/100\n",
      "50/50 [==============================] - 0s 10ms/step - loss: 0.5837\n",
      "Epoch 47/100\n",
      "50/50 [==============================] - 0s 10ms/step - loss: 0.5852\n",
      "Epoch 48/100\n",
      "50/50 [==============================] - 0s 9ms/step - loss: 0.5852\n",
      "Epoch 49/100\n",
      "50/50 [==============================] - 0s 10ms/step - loss: 0.5849\n",
      "Epoch 50/100\n",
      "50/50 [==============================] - 0s 9ms/step - loss: 0.5840\n",
      "Epoch 51/100\n",
      "50/50 [==============================] - 0s 9ms/step - loss: 0.5833\n",
      "Epoch 52/100\n",
      "50/50 [==============================] - 1s 10ms/step - loss: 0.5845\n",
      "Epoch 53/100\n",
      "50/50 [==============================] - 0s 9ms/step - loss: 0.5857\n",
      "Epoch 54/100\n",
      "50/50 [==============================] - 1s 10ms/step - loss: 0.5844\n",
      "Epoch 55/100\n",
      "50/50 [==============================] - 0s 10ms/step - loss: 0.5843\n",
      "Epoch 56/100\n",
      "50/50 [==============================] - 0s 10ms/step - loss: 0.5894\n",
      "Epoch 57/100\n",
      "50/50 [==============================] - 0s 9ms/step - loss: 0.5885\n",
      "Epoch 58/100\n",
      "50/50 [==============================] - 0s 10ms/step - loss: 0.5850\n",
      "Epoch 59/100\n",
      "50/50 [==============================] - 0s 10ms/step - loss: 0.5844\n",
      "Epoch 60/100\n",
      "50/50 [==============================] - 0s 9ms/step - loss: 0.5860\n",
      "Epoch 61/100\n",
      "50/50 [==============================] - 0s 8ms/step - loss: 0.5867\n",
      "Epoch 62/100\n",
      "50/50 [==============================] - 0s 8ms/step - loss: 0.5852\n",
      "Epoch 63/100\n",
      "50/50 [==============================] - 0s 9ms/step - loss: 0.5833\n",
      "Epoch 64/100\n",
      "50/50 [==============================] - 0s 9ms/step - loss: 0.5849\n",
      "Epoch 65/100\n",
      "50/50 [==============================] - 1s 11ms/step - loss: 0.5879\n",
      "Epoch 66/100\n",
      "50/50 [==============================] - 1s 12ms/step - loss: 0.5841\n",
      "Epoch 67/100\n",
      "50/50 [==============================] - 1s 10ms/step - loss: 0.5836\n",
      "Epoch 68/100\n",
      "50/50 [==============================] - 0s 9ms/step - loss: 0.5850\n",
      "Epoch 69/100\n",
      "50/50 [==============================] - 0s 9ms/step - loss: 0.5844\n",
      "Epoch 70/100\n",
      "50/50 [==============================] - 0s 8ms/step - loss: 0.5855\n",
      "Epoch 71/100\n",
      "50/50 [==============================] - 0s 9ms/step - loss: 0.5837\n",
      "Epoch 72/100\n",
      "50/50 [==============================] - 0s 8ms/step - loss: 0.5858\n",
      "Epoch 73/100\n",
      "50/50 [==============================] - 0s 8ms/step - loss: 0.5855\n",
      "Epoch 74/100\n",
      "50/50 [==============================] - 0s 10ms/step - loss: 0.5837\n",
      "Epoch 75/100\n",
      "50/50 [==============================] - 0s 8ms/step - loss: 0.5834\n",
      "Epoch 76/100\n",
      "50/50 [==============================] - 0s 8ms/step - loss: 0.5859\n",
      "Epoch 77/100\n",
      "50/50 [==============================] - 0s 8ms/step - loss: 0.5852\n",
      "Epoch 78/100\n",
      "50/50 [==============================] - 0s 7ms/step - loss: 0.6114\n",
      "Epoch 79/100\n",
      "50/50 [==============================] - 0s 8ms/step - loss: 0.5865\n",
      "Epoch 80/100\n",
      "50/50 [==============================] - 0s 9ms/step - loss: 0.5846\n",
      "Epoch 81/100\n",
      "50/50 [==============================] - 0s 9ms/step - loss: 0.5854\n",
      "Epoch 82/100\n",
      "50/50 [==============================] - 0s 9ms/step - loss: 0.5860\n",
      "Epoch 83/100\n",
      "50/50 [==============================] - 0s 9ms/step - loss: 0.5844\n",
      "Epoch 84/100\n",
      "50/50 [==============================] - 0s 8ms/step - loss: 0.5844\n",
      "Epoch 85/100\n",
      "50/50 [==============================] - 0s 8ms/step - loss: 0.5860\n",
      "Epoch 86/100\n",
      "50/50 [==============================] - 0s 8ms/step - loss: 0.5833\n",
      "Epoch 87/100\n",
      "50/50 [==============================] - 0s 9ms/step - loss: 0.5834\n",
      "Epoch 88/100\n",
      "50/50 [==============================] - 1s 11ms/step - loss: 0.5847\n",
      "Epoch 89/100\n",
      "50/50 [==============================] - 0s 9ms/step - loss: 0.5855\n",
      "Epoch 90/100\n",
      "50/50 [==============================] - 0s 8ms/step - loss: 0.5864\n",
      "Epoch 91/100\n",
      "50/50 [==============================] - 0s 9ms/step - loss: 0.5838\n",
      "Epoch 92/100\n",
      "50/50 [==============================] - 0s 8ms/step - loss: 0.5875\n",
      "Epoch 93/100\n",
      "50/50 [==============================] - 0s 9ms/step - loss: 0.5831\n",
      "Epoch 94/100\n",
      "50/50 [==============================] - 0s 9ms/step - loss: 0.5842\n",
      "Epoch 95/100\n",
      "50/50 [==============================] - 0s 9ms/step - loss: 0.5845\n",
      "Epoch 96/100\n",
      "50/50 [==============================] - 0s 9ms/step - loss: 0.5851\n",
      "Epoch 97/100\n",
      "50/50 [==============================] - 0s 8ms/step - loss: 0.5922\n",
      "Epoch 98/100\n",
      "50/50 [==============================] - 0s 8ms/step - loss: 0.5848\n",
      "Epoch 99/100\n",
      "50/50 [==============================] - 0s 9ms/step - loss: 0.5848\n",
      "Epoch 100/100\n",
      "50/50 [==============================] - 0s 9ms/step - loss: 0.5889\n"
     ]
    },
    {
     "data": {
      "text/plain": "<keras.src.callbacks.History at 0x179faeaf0>"
     },
     "execution_count": 11,
     "metadata": {},
     "output_type": "execute_result"
    }
   ],
   "source": [
    "autoencoder.fit(windows, windows, epochs=100, batch_size=100, shuffle=True)"
   ],
   "metadata": {
    "collapsed": false,
    "ExecuteTime": {
     "end_time": "2024-04-30T07:45:44.695676Z",
     "start_time": "2024-04-30T07:44:59.815908Z"
    }
   },
   "id": "4d4a9a8248fe109e",
   "execution_count": 11
  },
  {
   "cell_type": "code",
   "outputs": [
    {
     "name": "stdout",
     "output_type": "stream",
     "text": [
      "156/156 [==============================] - 0s 2ms/step\n"
     ]
    }
   ],
   "source": [
    "predictions = autoencoder.predict(windows)"
   ],
   "metadata": {
    "collapsed": false,
    "ExecuteTime": {
     "end_time": "2024-04-30T07:45:45.120125Z",
     "start_time": "2024-04-30T07:45:44.696951Z"
    }
   },
   "id": "aafb8ba2404281ef",
   "execution_count": 12
  },
  {
   "cell_type": "code",
   "outputs": [
    {
     "name": "stdout",
     "output_type": "stream",
     "text": [
      "156/156 [==============================] - 0s 615us/step\n"
     ]
    }
   ],
   "source": [
    "embeddings = encoder.predict(windows)[2]"
   ],
   "metadata": {
    "collapsed": false,
    "ExecuteTime": {
     "end_time": "2024-04-30T07:45:45.323019Z",
     "start_time": "2024-04-30T07:45:45.120806Z"
    }
   },
   "id": "73dbbfab61a5c280",
   "execution_count": 13
  },
  {
   "cell_type": "code",
   "outputs": [
    {
     "data": {
      "text/plain": "<matplotlib.collections.PathCollection at 0x17a08ccd0>"
     },
     "execution_count": 14,
     "metadata": {},
     "output_type": "execute_result"
    },
    {
     "data": {
      "text/plain": "<Figure size 800x800 with 1 Axes>",
      "image/png": "[encoded data removed]"
     },
     "metadata": {},
     "output_type": "display_data"
    }
   ],
   "source": [
    "plt.figure(figsize=(8, 8))\n",
    "plt.scatter(embeddings[:, 0], embeddings[:, 1], c=\"black\", alpha=0.5, s=3)"
   ],
   "metadata": {
    "collapsed": false,
    "ExecuteTime": {
     "end_time": "2024-04-30T07:45:45.522072Z",
     "start_time": "2024-04-30T07:45:45.323890Z"
    }
   },
   "id": "f40855c694185880",
   "execution_count": 14
  },
  {
   "cell_type": "code",
   "outputs": [
    {
     "name": "stdout",
     "output_type": "stream",
     "text": [
      "1/1 [==============================] - 0s 12ms/step\n"
     ]
    },
    {
     "data": {
      "text/plain": "<Figure size 800x575 with 2 Axes>",
      "image/png": "[encoded data removed]"
     },
     "metadata": {},
     "output_type": "display_data"
    }
   ],
   "source": [
    "mins, maxs = np.min(embeddings, axis=0), np.max(embeddings, axis=0)\n",
    "sample = np.random.uniform(mins, maxs, size=(20, 2))\n",
    "reconstruction = decoder.predict(sample)[0] \n",
    "reconstruction = pd.DataFrame(preprocessing.named_transformers_[\"pipeline\"][\"minmaxscaler\"].inverse_transform(reconstruction), columns=['Open', 'Low', 'High', 'Close'])\n",
    "reconstruction.index = pd.date_range('1/1/2021',periods=(reconstruction.shape[0]))\n",
    "mpf.plot(reconstruction, type='candle', datetime_format='%j')"
   ],
   "metadata": {
    "collapsed": false,
    "ExecuteTime": {
     "end_time": "2024-04-30T08:19:27.766700Z",
     "start_time": "2024-04-30T08:19:27.640655Z"
    }
   },
   "id": "e62b31560e0eab83",
   "execution_count": 39
  }
 ],
 "metadata": {
  "kernelspec": {
   "display_name": "Python 3",
   "language": "python",
   "name": "python3"
  },
  "language_info": {
   "codemirror_mode": {
    "name": "ipython",
    "version": 2
   },
   "file_extension": ".py",
   "mimetype": "text/x-python",
   "name": "python",
   "nbconvert_exporter": "python",
   "pygments_lexer": "ipython2",
   "version": "2.7.6"
  }
 },
 "nbformat": 4,
 "nbformat_minor": 5
}
