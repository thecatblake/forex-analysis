{
 "cells": [
  {
   "cell_type": "code",
   "execution_count": 1,
   "id": "initial_id",
   "metadata": {
    "collapsed": true,
    "ExecuteTime": {
     "end_time": "2024-05-02T01:09:35.103921Z",
     "start_time": "2024-05-02T01:09:31.995964Z"
    }
   },
   "outputs": [
    {
     "name": "stderr",
     "output_type": "stream",
     "text": [
      "/Users/ryousukekaga/repositories/forex-analysis/venv/lib/python3.9/site-packages/urllib3/__init__.py:34: NotOpenSSLWarning: urllib3 v2 only supports OpenSSL 1.1.1+, currently the 'ssl' module is compiled with 'LibreSSL 2.8.3'. See: https://github.com/urllib3/urllib3/issues/3020\n",
      "  warnings.warn(\n"
     ]
    }
   ],
   "source": [
    "from autoencoder import autoencoder_model\n",
    "from gan import DCGAN, discriminator_model, generator_model\n",
    "from keras.optimizers import Adam\n",
    "import numpy as np\n",
    "import pandas as pd\n",
    "import matplotlib.pyplot as plt\n",
    "import os\n",
    "import yfinance as yf\n",
    "from scipy.spatial import distance\n",
    "import mplfinance as mpf"
   ]
  },
  {
   "cell_type": "code",
   "outputs": [
    {
     "name": "stderr",
     "output_type": "stream",
     "text": [
      "WARNING:absl:At this time, the v2.11+ optimizer `tf.keras.optimizers.Adam` runs slowly on M1/M2 Macs, please use the legacy Keras optimizer instead, located at `tf.keras.optimizers.legacy.Adam`.\n"
     ]
    },
    {
     "name": "stdout",
     "output_type": "stream",
     "text": [
      "Epoch 1/50\n",
      "1563/1563 [==============================] - 10s 6ms/step - loss: 0.6409\n",
      "Epoch 2/50\n",
      "1563/1563 [==============================] - 9s 6ms/step - loss: 0.5987\n",
      "Epoch 3/50\n",
      "1563/1563 [==============================] - 9s 6ms/step - loss: 0.5970\n",
      "Epoch 4/50\n",
      "1563/1563 [==============================] - 9s 6ms/step - loss: 0.6006\n",
      "Epoch 5/50\n",
      "1563/1563 [==============================] - 9s 6ms/step - loss: 0.6014\n",
      "Epoch 6/50\n",
      "1563/1563 [==============================] - 9s 6ms/step - loss: 0.5991\n",
      "Epoch 7/50\n",
      "1563/1563 [==============================] - 9s 6ms/step - loss: 0.5967\n",
      "Epoch 8/50\n",
      "1563/1563 [==============================] - 9s 6ms/step - loss: 0.5938\n",
      "Epoch 9/50\n",
      "1563/1563 [==============================] - 9s 6ms/step - loss: 0.5930\n",
      "Epoch 10/50\n",
      "1563/1563 [==============================] - 9s 6ms/step - loss: 0.5935\n",
      "Epoch 11/50\n",
      "1563/1563 [==============================] - 8s 5ms/step - loss: 0.5923\n",
      "Epoch 12/50\n",
      "1563/1563 [==============================] - 8s 5ms/step - loss: 0.5923\n",
      "Epoch 13/50\n",
      "1563/1563 [==============================] - 8s 5ms/step - loss: 0.5922\n",
      "Epoch 14/50\n",
      "1563/1563 [==============================] - 8s 5ms/step - loss: 0.5932\n",
      "Epoch 15/50\n",
      "1563/1563 [==============================] - 9s 6ms/step - loss: 0.5923\n",
      "Epoch 16/50\n",
      "1563/1563 [==============================] - 8s 5ms/step - loss: 0.5924\n",
      "Epoch 17/50\n",
      "1563/1563 [==============================] - 8s 5ms/step - loss: 0.5920\n",
      "Epoch 18/50\n",
      "1563/1563 [==============================] - 8s 5ms/step - loss: 0.5919\n",
      "Epoch 19/50\n",
      "1563/1563 [==============================] - 8s 5ms/step - loss: 0.5921\n",
      "Epoch 20/50\n",
      "1563/1563 [==============================] - 9s 6ms/step - loss: 0.5918\n",
      "Epoch 21/50\n",
      "1563/1563 [==============================] - 9s 6ms/step - loss: 0.5918\n",
      "Epoch 22/50\n",
      "1563/1563 [==============================] - 8s 5ms/step - loss: 0.5918\n",
      "Epoch 23/50\n",
      "1563/1563 [==============================] - 8s 5ms/step - loss: 0.5922\n",
      "Epoch 24/50\n",
      "1563/1563 [==============================] - 7s 5ms/step - loss: 0.5919\n",
      "Epoch 25/50\n",
      "1563/1563 [==============================] - 7s 5ms/step - loss: 0.5920\n",
      "Epoch 26/50\n",
      "1563/1563 [==============================] - 7s 5ms/step - loss: 0.5921\n",
      "Epoch 27/50\n",
      "1563/1563 [==============================] - 8s 5ms/step - loss: 0.5919\n",
      "Epoch 28/50\n",
      "1563/1563 [==============================] - 10s 6ms/step - loss: 0.5919\n",
      "Epoch 29/50\n",
      "1563/1563 [==============================] - 8s 5ms/step - loss: 0.5918\n",
      "Epoch 30/50\n",
      "1563/1563 [==============================] - 8s 5ms/step - loss: 0.5918\n",
      "Epoch 31/50\n",
      "1563/1563 [==============================] - 9s 6ms/step - loss: 0.5917\n",
      "Epoch 32/50\n",
      "1563/1563 [==============================] - 9s 6ms/step - loss: 0.5922\n",
      "Epoch 33/50\n",
      "1563/1563 [==============================] - 8s 5ms/step - loss: 0.5918\n",
      "Epoch 34/50\n",
      "1563/1563 [==============================] - 8s 5ms/step - loss: 0.5920\n",
      "Epoch 35/50\n",
      "1563/1563 [==============================] - 8s 5ms/step - loss: 0.5918\n",
      "Epoch 36/50\n",
      "1563/1563 [==============================] - 8s 5ms/step - loss: 0.5919\n",
      "Epoch 37/50\n",
      "1563/1563 [==============================] - 8s 5ms/step - loss: 0.5921\n",
      "Epoch 38/50\n",
      "1563/1563 [==============================] - 8s 5ms/step - loss: 0.5922\n",
      "Epoch 39/50\n",
      "1563/1563 [==============================] - 8s 5ms/step - loss: 0.5918\n",
      "Epoch 40/50\n",
      "1563/1563 [==============================] - 8s 5ms/step - loss: 0.5919\n",
      "Epoch 41/50\n",
      "1563/1563 [==============================] - 8s 5ms/step - loss: 0.5918\n",
      "Epoch 42/50\n",
      "1563/1563 [==============================] - 8s 5ms/step - loss: 0.5921\n",
      "Epoch 43/50\n",
      "1563/1563 [==============================] - 9s 6ms/step - loss: 0.5917\n",
      "Epoch 44/50\n",
      "1563/1563 [==============================] - 8s 5ms/step - loss: 0.5917\n",
      "Epoch 45/50\n",
      "1563/1563 [==============================] - 9s 5ms/step - loss: 0.5918\n",
      "Epoch 46/50\n",
      "1563/1563 [==============================] - 8s 5ms/step - loss: 0.5918\n",
      "Epoch 47/50\n",
      "1563/1563 [==============================] - 8s 5ms/step - loss: 0.5919\n",
      "Epoch 48/50\n",
      "1563/1563 [==============================] - 8s 5ms/step - loss: 0.5917\n",
      "Epoch 49/50\n",
      "1563/1563 [==============================] - 8s 5ms/step - loss: 0.5927\n",
      "Epoch 50/50\n",
      "1563/1563 [==============================] - 9s 6ms/step - loss: 0.5921\n",
      "1563/1563 [==============================] - 1s 638us/step\n"
     ]
    }
   ],
   "source": [
    "WINDOW = 32\n",
    "Z_DIM = 100\n",
    "NUM_FEATURES = 4\n",
    "dcgan = DCGAN(generator_model(Z_DIM, NUM_FEATURES), discriminator_model(WINDOW, NUM_FEATURES), Z_DIM)\n",
    "dcgan.built = True\n",
    "dcgan.load_weights(\"dcgan_window_32.h5\")\n",
    "\n",
    "N_data = 50000\n",
    "random_latent_vectors = np.random.normal(\n",
    "    size=(N_data, 100)\n",
    ")\n",
    "\n",
    "generated_data = dcgan.generator(random_latent_vectors)\n",
    "\n",
    "encoder, decoder, autoencoder = autoencoder_model(WINDOW, Z_DIM, NUM_FEATURES)\n",
    "\n",
    "if not os.path.exists(\"autoencoder_gan_window_32.h5\"):\n",
    "    optimizer = Adam(learning_rate=0.001)\n",
    "    autoencoder.compile(optimizer=optimizer, loss=\"binary_crossentropy\")\n",
    "    autoencoder.fit(generated_data, generated_data, epochs=50, batch_size=32, shuffle=True)\n",
    "    autoencoder.save_weights(\"autoencoder_gan_window_32.h5\")\n",
    "\n",
    "autoencoder.load_weights(\"autoencoder_gan_window_32.h5\")\n",
    "embeddings = encoder.predict(generated_data)"
   ],
   "metadata": {
    "collapsed": false,
    "ExecuteTime": {
     "end_time": "2024-05-02T01:16:45.911249Z",
     "start_time": "2024-05-02T01:09:35.105079Z"
    }
   },
   "id": "afeacc723cbf02c",
   "execution_count": 2
  },
  {
   "cell_type": "code",
   "outputs": [],
   "source": [
    "ticker = yf.Ticker(\"EURUSD=X\")\n",
    "real_data = ticker.history(period=\"1y\", interval=\"1d\")[[\"Open\", \"High\", \"Low\", \"Close\"]]"
   ],
   "metadata": {
    "collapsed": false,
    "ExecuteTime": {
     "end_time": "2024-05-02T01:30:07.973833Z",
     "start_time": "2024-05-02T01:30:07.838583Z"
    }
   },
   "id": "5e82765c0303468",
   "execution_count": 74
  },
  {
   "cell_type": "code",
   "outputs": [
    {
     "data": {
      "text/plain": "                               Open      High       Low     Close\nDate                                                             \n2023-05-02 00:00:00+01:00  1.096924  1.100522  1.094355  1.096924\n2023-05-03 00:00:00+01:00  1.101091  1.105816  1.100594  1.101091\n2023-05-04 00:00:00+01:00  1.106893  1.109139  1.098684  1.106893\n2023-05-05 00:00:00+01:00  1.102293  1.104800  1.097165  1.102293\n2023-05-08 00:00:00+01:00  1.101868  1.105339  1.101249  1.101868\n...                             ...       ...       ...       ...\n2024-04-26 00:00:00+01:00  1.072961  1.075292  1.067555  1.072961\n2024-04-29 00:00:00+01:00  1.070687  1.073537  1.069096  1.070687\n2024-04-30 00:00:00+01:00  1.071570  1.073653  1.068433  1.071570\n2024-05-01 00:00:00+01:00  1.066655  1.068867  1.065008  1.066655\n2024-05-02 00:00:00+01:00  1.071582  1.072386  1.071237  1.071582\n\n[263 rows x 4 columns]",
      "text/html": "<div>\n<style scoped>\n    .dataframe tbody tr th:only-of-type {\n        vertical-align: middle;\n    }\n\n    .dataframe tbody tr th {\n        vertical-align: top;\n    }\n\n    .dataframe thead th {\n        text-align: right;\n    }\n</style>\n<table border=\"1\" class=\"dataframe\">\n  <thead>\n    <tr style=\"text-align: right;\">\n      <th></th>\n      <th>Open</th>\n      <th>High</th>\n      <th>Low</th>\n      <th>Close</th>\n    </tr>\n    <tr>\n      <th>Date</th>\n      <th></th>\n      <th></th>\n      <th></th>\n      <th></th>\n    </tr>\n  </thead>\n  <tbody>\n    <tr>\n      <th>2023-05-02 00:00:00+01:00</th>\n      <td>1.096924</td>\n      <td>1.100522</td>\n      <td>1.094355</td>\n      <td>1.096924</td>\n    </tr>\n    <tr>\n      <th>2023-05-03 00:00:00+01:00</th>\n      <td>1.101091</td>\n      <td>1.105816</td>\n      <td>1.100594</td>\n      <td>1.101091</td>\n    </tr>\n    <tr>\n      <th>2023-05-04 00:00:00+01:00</th>\n      <td>1.106893</td>\n      <td>1.109139</td>\n      <td>1.098684</td>\n      <td>1.106893</td>\n    </tr>\n    <tr>\n      <th>2023-05-05 00:00:00+01:00</th>\n      <td>1.102293</td>\n      <td>1.104800</td>\n      <td>1.097165</td>\n      <td>1.102293</td>\n    </tr>\n    <tr>\n      <th>2023-05-08 00:00:00+01:00</th>\n      <td>1.101868</td>\n      <td>1.105339</td>\n      <td>1.101249</td>\n      <td>1.101868</td>\n    </tr>\n    <tr>\n      <th>...</th>\n      <td>...</td>\n      <td>...</td>\n      <td>...</td>\n      <td>...</td>\n    </tr>\n    <tr>\n      <th>2024-04-26 00:00:00+01:00</th>\n      <td>1.072961</td>\n      <td>1.075292</td>\n      <td>1.067555</td>\n      <td>1.072961</td>\n    </tr>\n    <tr>\n      <th>2024-04-29 00:00:00+01:00</th>\n      <td>1.070687</td>\n      <td>1.073537</td>\n      <td>1.069096</td>\n      <td>1.070687</td>\n    </tr>\n    <tr>\n      <th>2024-04-30 00:00:00+01:00</th>\n      <td>1.071570</td>\n      <td>1.073653</td>\n      <td>1.068433</td>\n      <td>1.071570</td>\n    </tr>\n    <tr>\n      <th>2024-05-01 00:00:00+01:00</th>\n      <td>1.066655</td>\n      <td>1.068867</td>\n      <td>1.065008</td>\n      <td>1.066655</td>\n    </tr>\n    <tr>\n      <th>2024-05-02 00:00:00+01:00</th>\n      <td>1.071582</td>\n      <td>1.072386</td>\n      <td>1.071237</td>\n      <td>1.071582</td>\n    </tr>\n  </tbody>\n</table>\n<p>263 rows × 4 columns</p>\n</div>"
     },
     "execution_count": 75,
     "metadata": {},
     "output_type": "execute_result"
    }
   ],
   "source": [
    "real_data"
   ],
   "metadata": {
    "collapsed": false,
    "ExecuteTime": {
     "end_time": "2024-05-02T01:30:08.074981Z",
     "start_time": "2024-05-02T01:30:08.068116Z"
    }
   },
   "id": "2f8772be72975ea",
   "execution_count": 75
  },
  {
   "cell_type": "code",
   "outputs": [],
   "source": [
    "windows = np.array(list(real_data.rolling(window=WINDOW))[WINDOW:])"
   ],
   "metadata": {
    "collapsed": false,
    "ExecuteTime": {
     "end_time": "2024-05-02T01:30:08.616776Z",
     "start_time": "2024-05-02T01:30:08.603905Z"
    }
   },
   "id": "162a1cbd76cc2d84",
   "execution_count": 76
  },
  {
   "cell_type": "code",
   "outputs": [
    {
     "data": {
      "text/plain": "array([[1.08633065, 1.08742929, 1.08369362, 1.08633065],\n       [1.09372103, 1.09445119, 1.08564675, 1.09372103],\n       [1.08623624, 1.0869565 , 1.0809058 , 1.08623624],\n       [1.08075392, 1.08436346, 1.08026361, 1.08075392],\n       [1.08382285, 1.08641338, 1.08260262, 1.08382285],\n       [1.08323586, 1.08392859, 1.08117461, 1.08323586],\n       [1.08133829, 1.08283699, 1.07755136, 1.08133829],\n       [1.07944727, 1.08073056, 1.07688987, 1.07944727],\n       [1.07927263, 1.08014691, 1.07315719, 1.07927263],\n       [1.07372177, 1.07787657, 1.07253551, 1.07372177],\n       [1.07685518, 1.08318889, 1.07647264, 1.07685518],\n       [1.08383465, 1.08758307, 1.08350575, 1.08383465],\n       [1.08370543, 1.08484578, 1.07916772, 1.08370543],\n       [1.08304811, 1.08583534, 1.08215737, 1.08304811],\n       [1.08636618, 1.08885014, 1.08498704, 1.08636618],\n       [1.08592963, 1.08683836, 1.07337594, 1.08592963],\n       [1.07417154, 1.07558107, 1.07004523, 1.07417154],\n       [1.07268512, 1.07296145, 1.06237185, 1.07268512],\n       [1.06496274, 1.06655288, 1.06236064, 1.06496274],\n       [1.06257498, 1.06540525, 1.06041169, 1.06257498],\n       [1.06214619, 1.06526899, 1.06081665, 1.06214619],\n       [1.06693983, 1.06917572, 1.06478131, 1.06693983],\n       [1.06441855, 1.06803381, 1.0611769 , 1.06441855],\n       [1.06577992, 1.06712198, 1.06250727, 1.06582534],\n       [1.06540525, 1.0709964 , 1.0639317 , 1.06540525],\n       [1.07043457, 1.0715816 , 1.06791973, 1.07043457],\n       [1.06998789, 1.07319164, 1.06787407, 1.06998789],\n       [1.07296145, 1.07529199, 1.06755483, 1.07296145],\n       [1.0706867 , 1.07353723, 1.06909561, 1.0706867 ],\n       [1.07157016, 1.07365251, 1.06843317, 1.07157016],\n       [1.06665528, 1.06886709, 1.06500804, 1.06665528],\n       [1.0715816 , 1.07238603, 1.07123733, 1.0715816 ]])"
     },
     "execution_count": 77,
     "metadata": {},
     "output_type": "execute_result"
    }
   ],
   "source": [
    "windows[-1]"
   ],
   "metadata": {
    "collapsed": false,
    "ExecuteTime": {
     "end_time": "2024-05-02T01:30:09.053354Z",
     "start_time": "2024-05-02T01:30:09.047429Z"
    }
   },
   "id": "f7779829491de93d",
   "execution_count": 77
  },
  {
   "cell_type": "code",
   "outputs": [
    {
     "name": "stdout",
     "output_type": "stream",
     "text": [
      "8/8 [==============================] - 0s 2ms/step\n"
     ]
    }
   ],
   "source": [
    "real_embeddings = encoder.predict(windows)"
   ],
   "metadata": {
    "collapsed": false,
    "ExecuteTime": {
     "end_time": "2024-05-02T01:30:09.577949Z",
     "start_time": "2024-05-02T01:30:09.525571Z"
    }
   },
   "id": "8f99913eeb765141",
   "execution_count": 78
  },
  {
   "cell_type": "code",
   "outputs": [
    {
     "data": {
      "text/plain": "array([ 28.078993  ,  15.668356  , -16.7435    , -78.1057    ,\n       -21.489237  ,  -1.5212631 , -10.512693  ,   0.7777475 ,\n       -15.281283  , -30.590775  ,  25.635431  ,  20.96457   ,\n        -6.00493   , -37.828785  ,   4.082584  ,  -0.40117428,\n       -38.471752  ,  25.600191  ,  28.188904  , -16.767748  ,\n        31.30035   , -92.83189   ,  37.917706  , -13.483979  ,\n        -3.1946054 ,   3.7184598 , -62.41963   ,  23.203907  ,\n        33.88456   ,  -1.2242663 ,  26.816542  , -20.710978  ,\n       -36.574005  , -19.441746  ,   6.9407406 , -20.61611   ,\n       -16.733131  ,  15.571613  ,  17.36689   , -17.340118  ,\n       -37.626038  ,  -8.660713  ,  -6.9058642 , -23.138136  ,\n        70.86424   ,  57.10341   , -20.080511  , -21.866476  ,\n       -22.644608  , -34.897934  ,   9.97752   ,  50.19837   ,\n       -24.149422  , -38.6049    , -44.40703   , -45.792225  ,\n        -0.6878941 ,  -4.0009613 , -23.824453  , -35.516537  ,\n        28.96287   ,  10.423043  ,  11.2252865 ,   0.41647878,\n        24.911339  , -33.808876  , -39.236305  , -55.02633   ,\n        -6.130357  ,  16.08691   ,  18.579082  ,  -1.4982086 ,\n         2.6503143 , -19.110668  , -17.126856  ,  13.10915   ,\n       -35.364605  , -17.43359   ,  -7.597996  ,  15.040816  ,\n       -14.536197  ,   9.8508    , -21.406858  , -16.49881   ,\n        21.985098  ,  13.796578  ,  22.876093  , -25.562971  ,\n        -4.559502  ,  -4.806151  ,  55.696953  ,  48.867714  ,\n       -23.283829  ,  38.315014  , -25.896418  ,  73.25491   ,\n       -17.998358  ,  12.794332  ,  14.431271  ,   3.8463435 ],\n      dtype=float32)"
     },
     "execution_count": 79,
     "metadata": {},
     "output_type": "execute_result"
    }
   ],
   "source": [
    "real_embeddings[-1]"
   ],
   "metadata": {
    "collapsed": false,
    "ExecuteTime": {
     "end_time": "2024-05-02T01:30:10.015329Z",
     "start_time": "2024-05-02T01:30:10.010421Z"
    }
   },
   "id": "81766c2e0ad88a54",
   "execution_count": 79
  },
  {
   "cell_type": "code",
   "outputs": [
    {
     "data": {
      "text/plain": "array([[ -0.85199916, -10.792267  ,  -1.1808178 , ...,   0.455146  ,\n        -23.422062  ,   7.600423  ],\n       [  6.8539953 ,  -3.0758393 ,   5.8510323 , ...,   4.5836563 ,\n        -13.365161  ,   4.326695  ],\n       [ -0.5230396 , -10.165046  ,   4.6621666 , ...,   2.4176137 ,\n        -22.204742  ,   5.347628  ],\n       ...,\n       [ 19.13944   ,  21.418587  ,  -5.8592176 , ...,   7.8268385 ,\n         13.139338  , -18.67774   ],\n       [ 21.605982  ,  16.68843   ,   3.3040588 , ...,   2.6614082 ,\n          6.2822227 ,  -5.579637  ],\n       [ 23.440968  ,  18.574392  ,  -2.099288  , ...,   0.15554702,\n         15.498519  , -16.503597  ]], dtype=float32)"
     },
     "execution_count": 80,
     "metadata": {},
     "output_type": "execute_result"
    }
   ],
   "source": [
    "embeddings"
   ],
   "metadata": {
    "collapsed": false,
    "ExecuteTime": {
     "end_time": "2024-05-02T01:30:10.551714Z",
     "start_time": "2024-05-02T01:30:10.547101Z"
    }
   },
   "id": "a50f96d0537cd7a8",
   "execution_count": 80
  },
  {
   "cell_type": "code",
   "outputs": [],
   "source": [
    "distances = np.array([distance.euclidean(embedding, real_embeddings[-1]) for embedding in embeddings])"
   ],
   "metadata": {
    "collapsed": false,
    "ExecuteTime": {
     "end_time": "2024-05-02T01:30:11.209201Z",
     "start_time": "2024-05-02T01:30:11.069128Z"
    }
   },
   "id": "4b1aa05b6d9bb83e",
   "execution_count": 81
  },
  {
   "cell_type": "code",
   "outputs": [
    {
     "data": {
      "text/plain": "8080"
     },
     "execution_count": 82,
     "metadata": {},
     "output_type": "execute_result"
    }
   ],
   "source": [
    "distances.argmin()"
   ],
   "metadata": {
    "collapsed": false,
    "ExecuteTime": {
     "end_time": "2024-05-02T01:30:11.708292Z",
     "start_time": "2024-05-02T01:30:11.702905Z"
    }
   },
   "id": "75739d276cd8caab",
   "execution_count": 82
  },
  {
   "cell_type": "code",
   "outputs": [
    {
     "data": {
      "text/plain": "<Figure size 800x575 with 2 Axes>",
      "image/png": "[encoded data removed]"
     },
     "metadata": {},
     "output_type": "display_data"
    }
   ],
   "source": [
    "similar = pd.DataFrame(generated_data[distances.argmin()], columns=[\"Open\", \"High\", \"Low\", \"Close\"])\n",
    "similar.index = pd.date_range('1/1/2021',periods=(similar.shape[0]))\n",
    "mpf.plot(similar, type='candle', datetime_format='%j')"
   ],
   "metadata": {
    "collapsed": false,
    "ExecuteTime": {
     "end_time": "2024-05-02T01:30:12.334246Z",
     "start_time": "2024-05-02T01:30:12.221012Z"
    }
   },
   "id": "f8d1a777988f4e13",
   "execution_count": 83
  },
  {
   "cell_type": "code",
   "outputs": [
    {
     "data": {
      "text/plain": "<Figure size 800x575 with 2 Axes>",
      "image/png": "[encoded data removed]"
     },
     "metadata": {},
     "output_type": "display_data"
    }
   ],
   "source": [
    "mpf.plot(real_data[-WINDOW:], type='candle', datetime_format='%j')"
   ],
   "metadata": {
    "collapsed": false,
    "ExecuteTime": {
     "end_time": "2024-05-02T01:30:12.710687Z",
     "start_time": "2024-05-02T01:30:12.617855Z"
    }
   },
   "id": "32bce8fde4665079",
   "execution_count": 84
  },
  {
   "cell_type": "code",
   "outputs": [],
   "source": [],
   "metadata": {
    "collapsed": false,
    "ExecuteTime": {
     "end_time": "2024-05-02T01:16:47.488224Z",
     "start_time": "2024-05-02T01:16:47.485520Z"
    }
   },
   "id": "2a81457e098261c5",
   "execution_count": 13
  }
 ],
 "metadata": {
  "kernelspec": {
   "display_name": "Python 3",
   "language": "python",
   "name": "python3"
  },
  "language_info": {
   "codemirror_mode": {
    "name": "ipython",
    "version": 2
   },
   "file_extension": ".py",
   "mimetype": "text/x-python",
   "name": "python",
   "nbconvert_exporter": "python",
   "pygments_lexer": "ipython2",
   "version": "2.7.6"
  }
 },
 "nbformat": 4,
 "nbformat_minor": 5
}
